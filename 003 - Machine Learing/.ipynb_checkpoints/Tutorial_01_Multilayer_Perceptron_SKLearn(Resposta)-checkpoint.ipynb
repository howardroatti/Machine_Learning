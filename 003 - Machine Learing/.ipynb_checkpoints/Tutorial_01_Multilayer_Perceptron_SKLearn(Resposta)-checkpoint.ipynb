{
 "cells": [
  {
   "cell_type": "code",
   "execution_count": null,
   "metadata": {},
   "outputs": [],
   "source": [
    "import pandas as pd\n",
    "\n",
    "df_diabetes = pd.read_csv('diabetes.csv')\n",
    "print(df_diabetes.shape)\n",
    "df_diabetes.describe().transpose()"
   ]
  },
  {
   "cell_type": "code",
   "execution_count": null,
   "metadata": {},
   "outputs": [],
   "source": [
    "target_column = ['Diabetes'] \n",
    "predictors = list(set(list(df_diabetes.columns))-set(target_column))\n",
    "print(predictors)"
   ]
  },
  {
   "cell_type": "code",
   "execution_count": null,
   "metadata": {},
   "outputs": [],
   "source": [
    "from sklearn.preprocessing import StandardScaler\n",
    "transformer = StandardScaler()\n",
    "\n",
    "df_std = df_diabetes.copy()\n",
    "\n",
    "df_std[predictors] = transformer.fit_transform(df_diabetes[predictors])\n",
    "df_std.describe().transpose()"
   ]
  },
  {
   "cell_type": "code",
   "execution_count": null,
   "metadata": {},
   "outputs": [],
   "source": [
    "from sklearn.model_selection import train_test_split\n",
    "\n",
    "X_std = df_std[predictors].values\n",
    "y_std = df_std[target_column].values\n",
    "\n",
    "X_train_std, X_test_std, y_train_std, y_test_std = train_test_split(X_std, y_std, test_size=0.30, random_state=12)\n",
    "print(X_train_std.shape)\n",
    "print(X_test_std.shape)"
   ]
  },
  {
   "cell_type": "code",
   "execution_count": null,
   "metadata": {},
   "outputs": [],
   "source": [
    "from sklearn.neural_network import MLPClassifier\n",
    "from sklearn.metrics import classification_report,confusion_matrix\n",
    "import matplotlib.pyplot as plt\n",
    "from sklearn.metrics import plot_confusion_matrix\n",
    "%matplotlib inline\n",
    "\n",
    "mlp_std = MLPClassifier(hidden_layer_sizes=(8,8,8),\n",
    "                        activation='relu',\n",
    "                        solver='adam',\n",
    "                        max_iter=500,\n",
    "                        random_state=40                        \n",
    "                       )\n",
    "mlp_std.fit(X_train_std, y_train_std)\n",
    "predict_test_std = mlp_std.predict(X_test_std)\n",
    "\n",
    "print()\n",
    "print(classification_report(y_test_std,predict_test_std))\n",
    "print()\n",
    "\n",
    "# Plot non-normalized confusion matrix\n",
    "titles_options = [(\"Confusion matrix, without normalization\", None),\n",
    "                  (\"Normalized confusion matrix - Precision\", 'pred'),\n",
    "                 (\"Normalized confusion matrix - Recall\", 'true')]\n",
    "for title, normalize in titles_options:\n",
    "    disp = plot_confusion_matrix(mlp_std, X_test_std, y_test_std,\n",
    "                                 cmap=plt.cm.Blues,\n",
    "                                 normalize=normalize)\n",
    "    disp.ax_.set_title(title)\n",
    "\n",
    "    #print(title)\n",
    "    #print(disp.confusion_matrix)\n",
    "\n",
    "plt.show()"
   ]
  },
  {
   "cell_type": "code",
   "execution_count": null,
   "metadata": {},
   "outputs": [],
   "source": [
    "from sklearn.preprocessing import Normalizer\n",
    "transformer = Normalizer()\n",
    "\n",
    "df_norm = df_diabetes.copy()\n",
    "\n",
    "df_norm[predictors] = transformer.fit_transform(df_diabetes[predictors])\n",
    "df_norm.describe().transpose()"
   ]
  },
  {
   "cell_type": "code",
   "execution_count": null,
   "metadata": {},
   "outputs": [],
   "source": [
    "from sklearn.model_selection import train_test_split\n",
    "\n",
    "X_norm = df_norm[predictors].values\n",
    "y_norm = df_norm[target_column].values\n",
    "\n",
    "X_train_norm, X_test_norm, y_train_norm, y_test_norm = train_test_split(X_norm, y_norm, test_size=0.30, random_state=12)\n",
    "print(X_train_norm.shape)\n",
    "print(X_test_norm.shape)"
   ]
  },
  {
   "cell_type": "code",
   "execution_count": null,
   "metadata": {},
   "outputs": [],
   "source": [
    "from sklearn.neural_network import MLPClassifier\n",
    "from sklearn.metrics import classification_report,confusion_matrix\n",
    "import matplotlib.pyplot as plt\n",
    "from sklearn.metrics import plot_confusion_matrix\n",
    "%matplotlib inline\n",
    "\n",
    "mlp_norm = MLPClassifier(hidden_layer_sizes=(8,8,8),\n",
    "                        activation='relu',\n",
    "                        solver='adam',\n",
    "                        max_iter=500,\n",
    "                        random_state=40\n",
    "                       )\n",
    "mlp_norm.fit(X_train_norm, y_train_norm)\n",
    "predict_test_norm = mlp_norm.predict(X_test_norm)\n",
    "\n",
    "print(classification_report(y_test_norm,predict_test_norm))\n",
    "print()\n",
    "\n",
    "# Plot non-normalized confusion matrix\n",
    "titles_options = [(\"Confusion matrix, without normalization\", None),\n",
    "                  (\"Normalized confusion matrix - Precision\", 'pred'),\n",
    "                 (\"Normalized confusion matrix - Recall\", 'true')]\n",
    "for title, normalize in titles_options:\n",
    "    disp = plot_confusion_matrix(mlp_norm, X_test_norm, y_test_norm,\n",
    "                                 cmap=plt.cm.Blues,\n",
    "                                 normalize=normalize)\n",
    "    disp.ax_.set_title(title)\n",
    "\n",
    "    #print(title)\n",
    "    #print(disp.confusion_matrix)\n",
    "\n",
    "plt.show()"
   ]
  }
 ],
 "metadata": {
  "kernelspec": {
   "display_name": "Python 3.7.1 64-bit ('base': conda)",
   "language": "python",
   "name": "python37164bitbaseconda3fba3c74838b461395d0d706ab840eec"
  },
  "language_info": {
   "codemirror_mode": {
    "name": "ipython",
    "version": 3
   },
   "file_extension": ".py",
   "mimetype": "text/x-python",
   "name": "python",
   "nbconvert_exporter": "python",
   "pygments_lexer": "ipython3",
   "version": "3.7.1"
  }
 },
 "nbformat": 4,
 "nbformat_minor": 4
}
