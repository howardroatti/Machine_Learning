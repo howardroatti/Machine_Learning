{
 "cells": [
  {
   "cell_type": "code",
   "execution_count": null,
   "metadata": {},
   "outputs": [],
   "source": [
    "import pandas as pd\n",
    "import numpy as np\n",
    "\n",
    "df_wine = pd.read_csv('winequality-red.csv')\n",
    "print(df_wine.shape)\n",
    "df_wine.describe().transpose()"
   ]
  },
  {
   "cell_type": "code",
   "execution_count": null,
   "metadata": {},
   "outputs": [],
   "source": [
    "target_column = ['quality'] \n",
    "predictors = list(set(list(df_wine.columns))-set(target_column))\n",
    "print(predictors)"
   ]
  },
  {
   "cell_type": "markdown",
   "metadata": {},
   "source": [
    "# Padronização"
   ]
  },
  {
   "cell_type": "code",
   "execution_count": null,
   "metadata": {},
   "outputs": [],
   "source": [
    "from sklearn.preprocessing import StandardScaler\n",
    "from sklearn.preprocessing import LabelEncoder\n",
    "\n",
    "transformer = StandardScaler()\n",
    "le = LabelEncoder()\n",
    "\n",
    "df_std = df_wine.copy()\n",
    "\n",
    "df_std[predictors] = transformer.fit_transform(df_wine[predictors])\n",
    "df_std[target_column] = le.fit_transform(df_std[target_column].values.ravel())\n",
    "\n",
    "\n",
    "df_std.describe().transpose()"
   ]
  },
  {
   "cell_type": "code",
   "execution_count": null,
   "metadata": {},
   "outputs": [],
   "source": [
    "from sklearn.model_selection import train_test_split\n",
    "\n",
    "X_std = df_std[predictors].values\n",
    "y_std = df_std[target_column].values\n",
    "\n",
    "X_train_std, X_test_std, y_train_std, y_test_std = train_test_split(X_std, y_std, test_size=0.30, random_state=12)\n",
    "print(X_train_std.shape)\n",
    "print(X_test_std.shape)"
   ]
  },
  {
   "cell_type": "code",
   "execution_count": null,
   "metadata": {},
   "outputs": [],
   "source": [
    "import numpy as np\n",
    "\n",
    "#Específico do Keras\n",
    "from tensorflow import keras\n",
    "from tensorflow.keras import Sequential\n",
    "from tensorflow.keras.layers import Dense\n",
    "from tensorflow.keras.utils import to_categorical\n",
    "\n",
    "#Métricas\n",
    "import matplotlib.pyplot as plt\n",
    "from sklearn.metrics import mean_absolute_error, r2_score, accuracy_score, mean_squared_error\n",
    "%matplotlib inline"
   ]
  },
  {
   "cell_type": "code",
   "execution_count": null,
   "metadata": {
    "scrolled": true
   },
   "outputs": [],
   "source": [
    "mlp_std = Sequential()\n",
    "mlp_std.add(Dense(11, activation='sigmoid', input_dim=11))\n",
    "mlp_std.add(Dense(11, activation='sigmoid'))\n",
    "#mlp_std.add(Dense(11, activation='sigmoid'))\n",
    "mlp_std.add(Dense(1))\n",
    "\n",
    "mlp_std.compile(optimizer='adam',\n",
    "                loss='mean_squared_error',               \n",
    "                metrics=['mean_squared_error'])\n",
    "\n",
    "mlp_std.fit(X_train_std, y_train_std, epochs=500, verbose=0)\n",
    "\n",
    "predict_test_std = mlp_std.predict_classes(X_test_std)"
   ]
  },
  {
   "cell_type": "code",
   "execution_count": null,
   "metadata": {},
   "outputs": [],
   "source": [
    "# The mean absolute error\n",
    "print('Mean absolute error: %.2f'\n",
    "      % mean_absolute_error(y_test_std, predict_test_std))\n",
    "\n",
    "# The mean squared error\n",
    "print('Mean squared error: %.2f'\n",
    "      % mean_squared_error(y_test_std, predict_test_std))\n",
    "\n",
    "# The coefficient of determination: 1 is perfect prediction\n",
    "print('Coefficient of determination: %.2f'\n",
    "      % r2_score(y_test_std, predict_test_std))"
   ]
  },
  {
   "cell_type": "code",
   "execution_count": null,
   "metadata": {},
   "outputs": [],
   "source": [
    "# Plot outputs\n",
    "plt.rcParams[\"figure.figsize\"] = (20,3)\n",
    "plt.scatter(range(len(y_test_std)), y_test_std,  color='black')\n",
    "plt.plot(range(len(predict_test_std)), predict_test_std, color='blue', linewidth=1)\n",
    "\n",
    "plt.xticks(())\n",
    "plt.yticks(())\n",
    "\n",
    "plt.show()"
   ]
  },
  {
   "cell_type": "markdown",
   "metadata": {},
   "source": [
    "# Normlização"
   ]
  },
  {
   "cell_type": "code",
   "execution_count": null,
   "metadata": {},
   "outputs": [],
   "source": [
    "from sklearn.preprocessing import Normalizer\n",
    "from sklearn.preprocessing import LabelEncoder\n",
    "\n",
    "transformer = Normalizer()\n",
    "le = LabelEncoder()\n",
    "\n",
    "df_norm = df_wine.copy()\n",
    "\n",
    "df_norm[predictors] = transformer.fit_transform(df_wine[predictors])\n",
    "df_norm[target_column] = le.fit_transform(df_norm[target_column].values.ravel())\n",
    "\n",
    "df_norm.describe().transpose()"
   ]
  },
  {
   "cell_type": "code",
   "execution_count": null,
   "metadata": {},
   "outputs": [],
   "source": [
    "from sklearn.model_selection import train_test_split\n",
    "\n",
    "X_norm = df_norm[predictors].values\n",
    "y_norm = df_norm[target_column].values\n",
    "\n",
    "X_train_norm, X_test_norm, y_train_norm, y_test_norm = train_test_split(X_norm, y_norm, test_size=0.30, random_state=12)\n",
    "print(X_train_norm.shape)\n",
    "print(X_test_norm.shape)"
   ]
  },
  {
   "cell_type": "code",
   "execution_count": null,
   "metadata": {
    "scrolled": true
   },
   "outputs": [],
   "source": [
    "mlp_norm = Sequential()\n",
    "mlp_norm.add(Dense(66, activation='relu', input_dim=11))\n",
    "mlp_norm.add(Dense(33, activation='relu'))\n",
    "mlp_norm.add(Dense(11, activation='relu'))\n",
    "mlp_norm.add(Dense(1, activation='softmax'))\n",
    "\n",
    "mlp_norm.compile(optimizer='adam',\n",
    "                loss='mean_squared_error',               \n",
    "                metrics=['mean_squared_error'])\n",
    "\n",
    "mlp_norm.fit(X_train_norm, y_train_norm, epochs=100, verbose=0)\n",
    "predict_test_norm = mlp_norm.predict_classes(X_test_norm)"
   ]
  },
  {
   "cell_type": "code",
   "execution_count": null,
   "metadata": {},
   "outputs": [],
   "source": [
    "# The mean absolute error\n",
    "print('Mean absolute error: %.2f'\n",
    "      % mean_absolute_error(y_test_norm, predict_test_norm))\n",
    "\n",
    "# The mean squared error\n",
    "print('Mean squared error: %.2f'\n",
    "      % mean_squared_error(y_test_norm, predict_test_norm))\n",
    "\n",
    "# The coefficient of determination: 1 is perfect prediction\n",
    "print('Coefficient of determination: %.2f'\n",
    "      % r2_score(y_test_norm, predict_test_norm))"
   ]
  },
  {
   "cell_type": "code",
   "execution_count": null,
   "metadata": {},
   "outputs": [],
   "source": [
    "# Plot outputs\n",
    "plt.rcParams[\"figure.figsize\"] = (20,3)\n",
    "plt.scatter(range(len(y_test_norm)), y_test_norm,  color='black')\n",
    "plt.plot(range(len(predict_test_norm)), predict_test_norm, color='blue', linewidth=1)\n",
    "\n",
    "plt.xticks(())\n",
    "plt.yticks(())\n",
    "\n",
    "plt.show()"
   ]
  }
 ],
 "metadata": {
  "kernelspec": {
   "display_name": "Python 3.7.1 64-bit ('base': conda)",
   "language": "python",
   "name": "python37164bitbaseconda3fba3c74838b461395d0d706ab840eec"
  },
  "language_info": {
   "codemirror_mode": {
    "name": "ipython",
    "version": 3
   },
   "file_extension": ".py",
   "mimetype": "text/x-python",
   "name": "python",
   "nbconvert_exporter": "python",
   "pygments_lexer": "ipython3",
   "version": "3.7.1"
  }
 },
 "nbformat": 4,
 "nbformat_minor": 4
}
