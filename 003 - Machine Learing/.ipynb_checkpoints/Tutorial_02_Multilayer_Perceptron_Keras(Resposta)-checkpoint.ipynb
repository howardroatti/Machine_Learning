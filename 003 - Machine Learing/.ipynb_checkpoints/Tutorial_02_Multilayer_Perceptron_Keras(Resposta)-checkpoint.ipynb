{
 "cells": [
  {
   "cell_type": "code",
   "execution_count": null,
   "metadata": {},
   "outputs": [],
   "source": [
    "import pandas as pd\n",
    "import numpy as np\n",
    "\n",
    "df_diabetes = pd.read_csv('diabetes.csv')\n",
    "print(df_diabetes.shape)\n",
    "df_diabetes.describe().transpose()"
   ]
  },
  {
   "cell_type": "code",
   "execution_count": null,
   "metadata": {},
   "outputs": [],
   "source": [
    "target_column = ['Diabetes'] \n",
    "predictors = list(set(list(df_diabetes.columns))-set(target_column))\n",
    "print(predictors)"
   ]
  },
  {
   "cell_type": "code",
   "execution_count": null,
   "metadata": {},
   "outputs": [],
   "source": [
    "from sklearn.preprocessing import StandardScaler\n",
    "transformer = StandardScaler()\n",
    "\n",
    "df_std = df_diabetes.copy()\n",
    "\n",
    "df_std[predictors] = transformer.fit_transform(df_diabetes[predictors])\n",
    "df_std.describe().transpose()"
   ]
  },
  {
   "cell_type": "code",
   "execution_count": null,
   "metadata": {},
   "outputs": [],
   "source": [
    "from sklearn.model_selection import train_test_split\n",
    "\n",
    "X_std = df_std[predictors].values\n",
    "y_std = df_std[target_column].values\n",
    "\n",
    "X_train_std, X_test_std, y_train_std, y_test_std = train_test_split(X_std, y_std, test_size=0.30, random_state=12)\n",
    "print(X_train_std.shape)\n",
    "print(X_test_std.shape)"
   ]
  },
  {
   "cell_type": "code",
   "execution_count": null,
   "metadata": {},
   "outputs": [],
   "source": [
    "#Específico do Keras\n",
    "from tensorflow import keras\n",
    "from tensorflow.keras import Sequential\n",
    "from tensorflow.keras.layers import Dense\n",
    "from tensorflow.keras.utils import to_categorical\n",
    "\n",
    "#Métricas\n",
    "from sklearn.metrics import classification_report,confusion_matrix\n",
    "import matplotlib.pyplot as plt\n",
    "from sklearn.metrics import confusion_matrix\n",
    "%matplotlib inline"
   ]
  },
  {
   "cell_type": "code",
   "execution_count": null,
   "metadata": {},
   "outputs": [],
   "source": [
    "# one hot encode outputs\n",
    "y_train_std_cat = to_categorical(y_train_std)\n",
    "y_test_std_cat = to_categorical(y_test_std)"
   ]
  },
  {
   "cell_type": "code",
   "execution_count": null,
   "metadata": {
    "scrolled": true
   },
   "outputs": [],
   "source": [
    "mlp_std = Sequential()\n",
    "mlp_std.add(Dense(500, activation='relu', input_dim=8))\n",
    "mlp_std.add(Dense(100, activation='relu'))\n",
    "mlp_std.add(Dense(50, activation='relu'))\n",
    "mlp_std.add(Dense(2, activation='softmax'))\n",
    "\n",
    "mlp_std.compile(optimizer='adam',\n",
    "                loss='categorical_crossentropy',               \n",
    "                metrics=['accuracy'])\n",
    "\n",
    "mlp_std.fit(X_train_std, y_train_std_cat, epochs=20, verbose=0)\n",
    "predict_test_std = mlp_std.predict_classes(X_test_std)\n",
    "\n",
    "print()\n",
    "print(classification_report(y_test_std,predict_test_std))\n",
    "print()\n",
    "\n",
    "cnf_mtx = confusion_matrix(y_test_std,predict_test_std)\n",
    "\n",
    "fig = plt.figure()\n",
    "ax = fig.add_subplot(111)\n",
    "cax = ax.matshow(cnf_mtx, cmap=plt.cm.Blues)\n",
    "plt.title('Confusion matrix of the classifier')\n",
    "fig.colorbar(cax)\n",
    "\n",
    "for (i, j), z in np.ndenumerate(cnf_mtx):\n",
    "    ax.text(j, i, '{:0.1f}'.format(z), ha='center', va='center', bbox=dict(facecolor='white'))\n",
    "\n",
    "ax.set_xticklabels([''] + [0,1])\n",
    "ax.set_yticklabels([''] + [0,1])\n",
    "plt.xlabel('Predicted')\n",
    "plt.ylabel('True')\n",
    "plt.show()"
   ]
  },
  {
   "cell_type": "code",
   "execution_count": null,
   "metadata": {},
   "outputs": [],
   "source": [
    "from sklearn.preprocessing import Normalizer\n",
    "transformer = Normalizer()\n",
    "\n",
    "df_norm = df_diabetes.copy()\n",
    "\n",
    "df_norm[predictors] = transformer.fit_transform(df_diabetes[predictors])\n",
    "df_norm.describe().transpose()"
   ]
  },
  {
   "cell_type": "code",
   "execution_count": null,
   "metadata": {},
   "outputs": [],
   "source": [
    "from sklearn.model_selection import train_test_split\n",
    "\n",
    "X_norm = df_norm[predictors].values\n",
    "y_norm = df_norm[target_column].values\n",
    "\n",
    "X_train_norm, X_test_norm, y_train_norm, y_test_norm = train_test_split(X_norm, y_norm, test_size=0.30, random_state=12)\n",
    "print(X_train_norm.shape)\n",
    "print(X_test_norm.shape)"
   ]
  },
  {
   "cell_type": "code",
   "execution_count": null,
   "metadata": {},
   "outputs": [],
   "source": [
    "# one hot encode outputs\n",
    "y_train_norm_cat = to_categorical(y_train_norm)\n",
    "y_test_norm_cat = to_categorical(y_test_norm)"
   ]
  },
  {
   "cell_type": "code",
   "execution_count": null,
   "metadata": {
    "scrolled": true
   },
   "outputs": [],
   "source": [
    "mlp_norm = Sequential()\n",
    "mlp_norm.add(Dense(500, activation='relu', input_dim=8))\n",
    "mlp_norm.add(Dense(100, activation='relu'))\n",
    "mlp_norm.add(Dense(50, activation='relu'))\n",
    "mlp_norm.add(Dense(2, activation='softmax'))\n",
    "\n",
    "mlp_norm.compile(optimizer='adam',\n",
    "                loss='categorical_crossentropy',               \n",
    "                metrics=['accuracy'])\n",
    "\n",
    "mlp_norm.fit(X_train_norm, y_train_norm_cat, epochs=20, verbose=0)\n",
    "predict_test_norm = mlp_norm.predict_classes(X_test_norm)\n",
    "\n",
    "print()\n",
    "print(classification_report(y_test_norm, predict_test_norm))\n",
    "print()\n",
    "\n",
    "cnf_mtx = confusion_matrix(y_test_norm, predict_test_norm)\n",
    "\n",
    "fig = plt.figure()\n",
    "ax = fig.add_subplot(111)\n",
    "cax = ax.matshow(cnf_mtx, cmap=plt.cm.Blues)\n",
    "plt.title('Confusion matrix of the classifier')\n",
    "fig.colorbar(cax)\n",
    "\n",
    "for (i, j), z in np.ndenumerate(cnf_mtx):\n",
    "    ax.text(j, i, '{:0.1f}'.format(z), ha='center', va='center', bbox=dict(facecolor='white'))\n",
    "\n",
    "ax.set_xticklabels([''] + [0,1])\n",
    "ax.set_yticklabels([''] + [0,1])\n",
    "plt.xlabel('Predicted')\n",
    "plt.ylabel('True')\n",
    "plt.show()"
   ]
  }
 ],
 "metadata": {
  "kernelspec": {
   "display_name": "Python 3.7.1 64-bit ('base': conda)",
   "language": "python",
   "name": "python37164bitbaseconda3fba3c74838b461395d0d706ab840eec"
  },
  "language_info": {
   "codemirror_mode": {
    "name": "ipython",
    "version": 3
   },
   "file_extension": ".py",
   "mimetype": "text/x-python",
   "name": "python",
   "nbconvert_exporter": "python",
   "pygments_lexer": "ipython3",
   "version": "3.7.1"
  }
 },
 "nbformat": 4,
 "nbformat_minor": 4
}
