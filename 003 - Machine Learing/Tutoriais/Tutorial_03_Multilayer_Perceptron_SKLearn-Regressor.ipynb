{
 "cells": [
  {
   "cell_type": "markdown",
   "metadata": {},
   "source": [
    "# Tutorial 03 - MLP com SKLearn"
   ]
  },
  {
   "cell_type": "markdown",
   "metadata": {},
   "source": [
    "<h3>Nesse tutorial vocês irão implementar um modelo de redes neurais denominado Perceptron Multi Camadas aplicado à coleção Qualidade de Vinhos disponível no <a href=\"https://www.kaggle.com/uciml/red-wine-quality-cortez-et-al-2009\">Kaggle</a> utilizando o <a href=\"https://scikit-learn.org/stable/modules/generated/sklearn.neural_network.MLPRegressor.html\">Scikit-Learn</a></h3>"
   ]
  },
  {
   "cell_type": "markdown",
   "metadata": {},
   "source": [
    "<h4>Passo 1: Realize o carregamento do dataset e exiba suas dimensões e descrição</h4>"
   ]
  },
  {
   "cell_type": "code",
   "execution_count": null,
   "metadata": {},
   "outputs": [],
   "source": []
  },
  {
   "cell_type": "markdown",
   "metadata": {},
   "source": [
    "<h4>Passos 2 e 3: Aplique nos atributos preditores, criando dois novos Pandas Data Frames, padronização e normalização</h4>"
   ]
  },
  {
   "cell_type": "code",
   "execution_count": null,
   "metadata": {},
   "outputs": [],
   "source": []
  },
  {
   "cell_type": "markdown",
   "metadata": {},
   "source": [
    "<h4>Passo 4: Separe os Data Frames em conjuntos de treino e teste</h4>"
   ]
  },
  {
   "cell_type": "code",
   "execution_count": null,
   "metadata": {},
   "outputs": [],
   "source": []
  },
  {
   "cell_type": "markdown",
   "metadata": {},
   "source": [
    "<h4>Passo 5: Crie o modelo de MLP<br/>\n",
    "Iremos utilizar o MLPRegressor do pacote sklearn.neural_network</h4>\n",
    "<p>Definição de Parâmetros</p>\n",
    "<ul>\n",
    "    <li>\n",
    "        <p><strong>hidden_layer_sizes</strong>: É uma tupla onde cada elemento representa uma camada oculta. Os valores representam os números de neurônios utilizados em cada uma das camadas. Geralmente utiliza-se a forma densa, ou seja, um neurônio de camada oculta por um neurônio de entrada</p>\n",
    "    </li>\n",
    "    <li>\n",
    "        <p><strong>activation</strong>: Aqui você irá definir a função de ativação, no Scikit-Learn há as seguintes opções</p>\n",
    "        <ol>\n",
    "            <li>indentity: f(x) = x</li>\n",
    "            <li>logistic: f(x) = 1 / (1 + exp(-x))</li>\n",
    "            <li>tanh: f(x) = tanh(x)</li>\n",
    "            <li>relu: f(x) = max(0, x)</li>\n",
    "        </ol>\n",
    "    </li>\n",
    "    <li>\n",
    "        <p><strong>solver</strong>: Esse parâmetro indica qual a função utilizada para otimizar os pesos da rede. As mais comuns são <i>sgd</i> e <i>adam</i></p>\n",
    "    </li>\n",
    "    <li>\n",
    "        <p><strong>max_iter</strong>: Indica a quantidade de iterações que o modelo irá aplicar o algoritmo Backpropagation com o objetivo de alcançar a convergência.</p>\n",
    "    </li>\n",
    "    <li>\n",
    "        <p><strong>random_sate</strong>: Um número indicado para que o modelo possa ser reproduzível.</p>\n",
    "    </li>\n",
    "</ul>"
   ]
  },
  {
   "cell_type": "code",
   "execution_count": null,
   "metadata": {},
   "outputs": [],
   "source": []
  },
  {
   "cell_type": "markdown",
   "metadata": {},
   "source": [
    "<h4>Passo 6: Exiba um gráfico com os valores reais e previstos</h4>"
   ]
  },
  {
   "cell_type": "code",
   "execution_count": null,
   "metadata": {},
   "outputs": [],
   "source": []
  }
 ],
 "metadata": {
  "kernelspec": {
   "display_name": "Python 3",
   "language": "python",
   "name": "python3"
  },
  "language_info": {
   "codemirror_mode": {
    "name": "ipython",
    "version": 3
   },
   "file_extension": ".py",
   "mimetype": "text/x-python",
   "name": "python",
   "nbconvert_exporter": "python",
   "pygments_lexer": "ipython3",
   "version": "3.7.10"
  }
 },
 "nbformat": 4,
 "nbformat_minor": 4
}
