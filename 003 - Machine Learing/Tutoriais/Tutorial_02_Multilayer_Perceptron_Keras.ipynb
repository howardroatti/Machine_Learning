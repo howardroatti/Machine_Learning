{
 "cells": [
  {
   "cell_type": "markdown",
   "metadata": {},
   "source": [
    "# Tutorial 02 - MLP com Keras"
   ]
  },
  {
   "cell_type": "markdown",
   "metadata": {},
   "source": [
    "<h3>Nesse tutorial vocês irão implementar um modelo de redes neurais denominado Perceptron Multi Camadas aplicado à coleção diabetes disponível no <a href=\"https://www.kaggle.com/uciml/pima-indians-diabetes-database\">Kaggle</a> utilizando o <a href=\"https://keras.io/guides/\">Keras</a></h3>"
   ]
  },
  {
   "cell_type": "markdown",
   "metadata": {},
   "source": [
    "<h4>Passo 1: Realize o carregamento do dataset e exiba suas dimensões e descrição</h4>"
   ]
  },
  {
   "cell_type": "code",
   "execution_count": null,
   "metadata": {},
   "outputs": [],
   "source": []
  },
  {
   "cell_type": "markdown",
   "metadata": {},
   "source": [
    "<h4>Passos 2 e 3: Aplique nos atributos preditores, criando dois novos Pandas Data Frames, padronização e normalização</h4>"
   ]
  },
  {
   "cell_type": "code",
   "execution_count": null,
   "metadata": {},
   "outputs": [],
   "source": []
  },
  {
   "cell_type": "markdown",
   "metadata": {},
   "source": [
    "<h4>Passo 4: Separe os Data Frames em conjuntos de treino e teste</h4>"
   ]
  },
  {
   "cell_type": "code",
   "execution_count": null,
   "metadata": {},
   "outputs": [],
   "source": []
  },
  {
   "cell_type": "markdown",
   "metadata": {},
   "source": [
    "<h4>Passo 5: Crie o modelo de MLP<br/></h4>\n",
    "<p>Iremos utilizar o modelo sequencial (Sequential) do pacote <strong><i>tensorflow.keras</i></strong>. Esse modelo necessita da inclusão de camadas e utilizaremos densas (Dense) do pacote <strong><i>tensorflow.keras.layers</i></strong>. Precisaremos transformar os atributos de destino em categorias com one hot encode, utilizaremos o to_categorical do pacote <strong><i>tensorflow.keras.utils</i></strong>.</p>"
   ]
  },
  {
   "cell_type": "code",
   "execution_count": null,
   "metadata": {},
   "outputs": [],
   "source": []
  },
  {
   "cell_type": "markdown",
   "metadata": {},
   "source": [
    "<h5>Passo 5.1: Aplique One Hot Encode nos atributos destino</h5>"
   ]
  },
  {
   "cell_type": "code",
   "execution_count": null,
   "metadata": {},
   "outputs": [],
   "source": []
  },
  {
   "cell_type": "markdown",
   "metadata": {},
   "source": [
    "<h5>Passo 5.2: Crie um modelo sequencial (Sequential)</h5>"
   ]
  },
  {
   "cell_type": "code",
   "execution_count": null,
   "metadata": {},
   "outputs": [],
   "source": []
  },
  {
   "cell_type": "markdown",
   "metadata": {},
   "source": [
    "<h5>Passo 5.3: Adicione as camadas</h5>\n",
    "<p>Defina o número de camadas e adicione com o comando: model.add(). Como parâmetro você passará uma camada densa (Dense).</p>\n",
    "<p>As camadas densas possuem os seguintes parâmetros:</p>\n",
    "<ul>\n",
    "    <li>units: número inteiro positivo que indica a dimensionalidade de saída da camada</li>\n",
    "    <li>activation: função de ativação aplicada na saída da camada (relu, softmax, sigmoid, softplus, softsign, tanh, selu, elu, exponential)</li>\n",
    "    <li>input_dim: parâmetro que indica a quantidade de neurônios de entrada para a primeira camada adicionada na sequência.</li>\n",
    "</ul>"
   ]
  },
  {
   "cell_type": "code",
   "execution_count": null,
   "metadata": {},
   "outputs": [],
   "source": []
  },
  {
   "cell_type": "markdown",
   "metadata": {},
   "source": [
    "<h5>Passo 5.4: Prepare o modelo para o treino</h5>\n",
    "<p>Agora é a hora de informar quais os parâmetros serão utilizados para o treinamento. Iremos nos concentrar nesse momento no seguintes parâmetros:</p>\n",
    "<ol>\n",
    "    <li><strong>optimizer</strong>: nome do otimizador (<i>adam, sgd, rmsprop, adadelta, adagrad, adamax, Nadam, ftrl</i>)</li>    \n",
    "    <li><strong>loss</strong>: nome da função utilizada para otimização do erro de predição (<i>categorical_crossentropy, kl_divergence, mean_squared_error, mean_absolute_error, cosine_similarity, huber_loss</i>)</li>    \n",
    "    <li><strong>metrics</strong>: Lista de métricas utilizadas para avaliar o modelo durante o treino e o teste (<i>accuracy, mean_squared_error, root_mean_squared_error, mean_absolute_error, precision, recall</i>)</li>  \n",
    "    <li>Para mais parâmetros, acesse: <a href=\"https://keras.io/api/models/model_training_apis/\"> https://keras.io/api/models/model_training_apis/</a></li>\n",
    "</ol>"
   ]
  },
  {
   "cell_type": "code",
   "execution_count": null,
   "metadata": {},
   "outputs": [],
   "source": []
  },
  {
   "cell_type": "markdown",
   "metadata": {},
   "source": [
    "<h5>Passo 5.5: Realize o treino do modelo com função fit</h5>\n",
    "<p>O fit da MLP do Keras tem uma peculiaridade que é onde você irá informar o número de épocas (epochs) que o modelo irá treinar até alcançar uma certa convergência</p>"
   ]
  },
  {
   "cell_type": "code",
   "execution_count": null,
   "metadata": {},
   "outputs": [],
   "source": []
  },
  {
   "cell_type": "markdown",
   "metadata": {},
   "source": [
    "<h4>Passo 6: Exiba um gráfico com a matriz de confusão dos valores preditos</h4>"
   ]
  },
  {
   "cell_type": "code",
   "execution_count": null,
   "metadata": {},
   "outputs": [],
   "source": []
  }
 ],
 "metadata": {
  "kernelspec": {
   "display_name": "Python 3",
   "language": "python",
   "name": "python3"
  },
  "language_info": {
   "codemirror_mode": {
    "name": "ipython",
    "version": 3
   },
   "file_extension": ".py",
   "mimetype": "text/x-python",
   "name": "python",
   "nbconvert_exporter": "python",
   "pygments_lexer": "ipython3",
   "version": "3.7.10"
  }
 },
 "nbformat": 4,
 "nbformat_minor": 4
}
