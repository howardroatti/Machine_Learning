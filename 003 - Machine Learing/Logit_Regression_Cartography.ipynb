{
 "cells": [
  {
   "cell_type": "code",
   "execution_count": 1,
   "metadata": {},
   "outputs": [],
   "source": [
    "import numpy as np\n",
    "import pandas as pd\n",
    "import matplotlib.pyplot as plt\n",
    "import seaborn as sns\n",
    "sns.set(style=\"ticks\", color_codes=True)\n",
    "from sklearn.model_selection import train_test_split \n",
    "from sklearn.linear_model import LogisticRegression\n",
    "from sklearn.metrics import roc_auc_score\n",
    "from sklearn.preprocessing import LabelBinarizer\n",
    "from sklearn import metrics\n",
    "%matplotlib inline\n",
    "import warnings\n",
    "warnings.filterwarnings('ignore')"
   ]
  },
  {
   "cell_type": "code",
   "execution_count": 2,
   "metadata": {},
   "outputs": [],
   "source": [
    "data = pd.read_excel(\"./DataSets/CTG.xls\", sheetname='Raw Data')"
   ]
  },
  {
   "cell_type": "code",
   "execution_count": 3,
   "metadata": {},
   "outputs": [],
   "source": [
    "df_cartography = data.drop(columns=['FileName', 'SegFile', 'Date', 'b', 'e'])\n",
    "del(data)"
   ]
  },
  {
   "cell_type": "code",
   "execution_count": 4,
   "metadata": {},
   "outputs": [
    {
     "data": {
      "text/html": [
       "<div>\n",
       "<style scoped>\n",
       "    .dataframe tbody tr th:only-of-type {\n",
       "        vertical-align: middle;\n",
       "    }\n",
       "\n",
       "    .dataframe tbody tr th {\n",
       "        vertical-align: top;\n",
       "    }\n",
       "\n",
       "    .dataframe thead th {\n",
       "        text-align: right;\n",
       "    }\n",
       "</style>\n",
       "<table border=\"1\" class=\"dataframe\">\n",
       "  <thead>\n",
       "    <tr style=\"text-align: right;\">\n",
       "      <th></th>\n",
       "      <th>LBE</th>\n",
       "      <th>LB</th>\n",
       "      <th>AC</th>\n",
       "      <th>FM</th>\n",
       "      <th>UC</th>\n",
       "      <th>ASTV</th>\n",
       "      <th>MSTV</th>\n",
       "      <th>ALTV</th>\n",
       "      <th>MLTV</th>\n",
       "      <th>DL</th>\n",
       "      <th>...</th>\n",
       "      <th>C</th>\n",
       "      <th>D</th>\n",
       "      <th>E</th>\n",
       "      <th>AD</th>\n",
       "      <th>DE</th>\n",
       "      <th>LD</th>\n",
       "      <th>FS</th>\n",
       "      <th>SUSP</th>\n",
       "      <th>CLASS</th>\n",
       "      <th>NSP</th>\n",
       "    </tr>\n",
       "  </thead>\n",
       "  <tbody>\n",
       "    <tr>\n",
       "      <th>0</th>\n",
       "      <td>NaN</td>\n",
       "      <td>NaN</td>\n",
       "      <td>NaN</td>\n",
       "      <td>NaN</td>\n",
       "      <td>NaN</td>\n",
       "      <td>NaN</td>\n",
       "      <td>NaN</td>\n",
       "      <td>NaN</td>\n",
       "      <td>NaN</td>\n",
       "      <td>NaN</td>\n",
       "      <td>...</td>\n",
       "      <td>NaN</td>\n",
       "      <td>NaN</td>\n",
       "      <td>NaN</td>\n",
       "      <td>NaN</td>\n",
       "      <td>NaN</td>\n",
       "      <td>NaN</td>\n",
       "      <td>NaN</td>\n",
       "      <td>NaN</td>\n",
       "      <td>NaN</td>\n",
       "      <td>NaN</td>\n",
       "    </tr>\n",
       "    <tr>\n",
       "      <th>1</th>\n",
       "      <td>120.0</td>\n",
       "      <td>120.0</td>\n",
       "      <td>0.0</td>\n",
       "      <td>0.0</td>\n",
       "      <td>0.0</td>\n",
       "      <td>73.0</td>\n",
       "      <td>0.5</td>\n",
       "      <td>43.0</td>\n",
       "      <td>2.4</td>\n",
       "      <td>0.0</td>\n",
       "      <td>...</td>\n",
       "      <td>0.0</td>\n",
       "      <td>0.0</td>\n",
       "      <td>0.0</td>\n",
       "      <td>0.0</td>\n",
       "      <td>0.0</td>\n",
       "      <td>0.0</td>\n",
       "      <td>1.0</td>\n",
       "      <td>0.0</td>\n",
       "      <td>9.0</td>\n",
       "      <td>2.0</td>\n",
       "    </tr>\n",
       "    <tr>\n",
       "      <th>2</th>\n",
       "      <td>132.0</td>\n",
       "      <td>132.0</td>\n",
       "      <td>4.0</td>\n",
       "      <td>0.0</td>\n",
       "      <td>4.0</td>\n",
       "      <td>17.0</td>\n",
       "      <td>2.1</td>\n",
       "      <td>0.0</td>\n",
       "      <td>10.4</td>\n",
       "      <td>2.0</td>\n",
       "      <td>...</td>\n",
       "      <td>0.0</td>\n",
       "      <td>0.0</td>\n",
       "      <td>0.0</td>\n",
       "      <td>1.0</td>\n",
       "      <td>0.0</td>\n",
       "      <td>0.0</td>\n",
       "      <td>0.0</td>\n",
       "      <td>0.0</td>\n",
       "      <td>6.0</td>\n",
       "      <td>1.0</td>\n",
       "    </tr>\n",
       "    <tr>\n",
       "      <th>3</th>\n",
       "      <td>133.0</td>\n",
       "      <td>133.0</td>\n",
       "      <td>2.0</td>\n",
       "      <td>0.0</td>\n",
       "      <td>5.0</td>\n",
       "      <td>16.0</td>\n",
       "      <td>2.1</td>\n",
       "      <td>0.0</td>\n",
       "      <td>13.4</td>\n",
       "      <td>2.0</td>\n",
       "      <td>...</td>\n",
       "      <td>0.0</td>\n",
       "      <td>0.0</td>\n",
       "      <td>0.0</td>\n",
       "      <td>1.0</td>\n",
       "      <td>0.0</td>\n",
       "      <td>0.0</td>\n",
       "      <td>0.0</td>\n",
       "      <td>0.0</td>\n",
       "      <td>6.0</td>\n",
       "      <td>1.0</td>\n",
       "    </tr>\n",
       "    <tr>\n",
       "      <th>4</th>\n",
       "      <td>134.0</td>\n",
       "      <td>134.0</td>\n",
       "      <td>2.0</td>\n",
       "      <td>0.0</td>\n",
       "      <td>6.0</td>\n",
       "      <td>16.0</td>\n",
       "      <td>2.4</td>\n",
       "      <td>0.0</td>\n",
       "      <td>23.0</td>\n",
       "      <td>2.0</td>\n",
       "      <td>...</td>\n",
       "      <td>0.0</td>\n",
       "      <td>0.0</td>\n",
       "      <td>0.0</td>\n",
       "      <td>1.0</td>\n",
       "      <td>0.0</td>\n",
       "      <td>0.0</td>\n",
       "      <td>0.0</td>\n",
       "      <td>0.0</td>\n",
       "      <td>6.0</td>\n",
       "      <td>1.0</td>\n",
       "    </tr>\n",
       "  </tbody>\n",
       "</table>\n",
       "<p>5 rows × 35 columns</p>\n",
       "</div>"
      ],
      "text/plain": [
       "     LBE     LB   AC   FM   UC  ASTV  MSTV  ALTV  MLTV   DL ...     C    D  \\\n",
       "0    NaN    NaN  NaN  NaN  NaN   NaN   NaN   NaN   NaN  NaN ...   NaN  NaN   \n",
       "1  120.0  120.0  0.0  0.0  0.0  73.0   0.5  43.0   2.4  0.0 ...   0.0  0.0   \n",
       "2  132.0  132.0  4.0  0.0  4.0  17.0   2.1   0.0  10.4  2.0 ...   0.0  0.0   \n",
       "3  133.0  133.0  2.0  0.0  5.0  16.0   2.1   0.0  13.4  2.0 ...   0.0  0.0   \n",
       "4  134.0  134.0  2.0  0.0  6.0  16.0   2.4   0.0  23.0  2.0 ...   0.0  0.0   \n",
       "\n",
       "     E   AD   DE   LD   FS  SUSP  CLASS  NSP  \n",
       "0  NaN  NaN  NaN  NaN  NaN   NaN    NaN  NaN  \n",
       "1  0.0  0.0  0.0  0.0  1.0   0.0    9.0  2.0  \n",
       "2  0.0  1.0  0.0  0.0  0.0   0.0    6.0  1.0  \n",
       "3  0.0  1.0  0.0  0.0  0.0   0.0    6.0  1.0  \n",
       "4  0.0  1.0  0.0  0.0  0.0   0.0    6.0  1.0  \n",
       "\n",
       "[5 rows x 35 columns]"
      ]
     },
     "execution_count": 4,
     "metadata": {},
     "output_type": "execute_result"
    }
   ],
   "source": [
    "df_cartography.head()"
   ]
  },
  {
   "cell_type": "code",
   "execution_count": 5,
   "metadata": {
    "scrolled": true
   },
   "outputs": [
    {
     "name": "stdout",
     "output_type": "stream",
     "text": [
      "<class 'pandas.core.frame.DataFrame'>\n",
      "RangeIndex: 2130 entries, 0 to 2129\n",
      "Data columns (total 35 columns):\n",
      "LBE         2126 non-null float64\n",
      "LB          2126 non-null float64\n",
      "AC          2126 non-null float64\n",
      "FM          2127 non-null float64\n",
      "UC          2127 non-null float64\n",
      "ASTV        2127 non-null float64\n",
      "MSTV        2127 non-null float64\n",
      "ALTV        2127 non-null float64\n",
      "MLTV        2127 non-null float64\n",
      "DL          2128 non-null float64\n",
      "DS          2128 non-null float64\n",
      "DP          2128 non-null float64\n",
      "DR          2128 non-null float64\n",
      "Width       2126 non-null float64\n",
      "Min         2126 non-null float64\n",
      "Max         2126 non-null float64\n",
      "Nmax        2126 non-null float64\n",
      "Nzeros      2126 non-null float64\n",
      "Mode        2126 non-null float64\n",
      "Mean        2126 non-null float64\n",
      "Median      2126 non-null float64\n",
      "Variance    2126 non-null float64\n",
      "Tendency    2126 non-null float64\n",
      "A           2126 non-null float64\n",
      "B           2126 non-null float64\n",
      "C           2126 non-null float64\n",
      "D           2126 non-null float64\n",
      "E           2126 non-null float64\n",
      "AD          2126 non-null float64\n",
      "DE          2126 non-null float64\n",
      "LD          2126 non-null float64\n",
      "FS          2126 non-null float64\n",
      "SUSP        2126 non-null float64\n",
      "CLASS       2126 non-null float64\n",
      "NSP         2126 non-null float64\n",
      "dtypes: float64(35)\n",
      "memory usage: 582.5 KB\n"
     ]
    }
   ],
   "source": [
    "df_cartography.info()"
   ]
  },
  {
   "cell_type": "code",
   "execution_count": 6,
   "metadata": {
    "scrolled": true
   },
   "outputs": [
    {
     "data": {
      "text/html": [
       "<div>\n",
       "<style scoped>\n",
       "    .dataframe tbody tr th:only-of-type {\n",
       "        vertical-align: middle;\n",
       "    }\n",
       "\n",
       "    .dataframe tbody tr th {\n",
       "        vertical-align: top;\n",
       "    }\n",
       "\n",
       "    .dataframe thead th {\n",
       "        text-align: right;\n",
       "    }\n",
       "</style>\n",
       "<table border=\"1\" class=\"dataframe\">\n",
       "  <thead>\n",
       "    <tr style=\"text-align: right;\">\n",
       "      <th></th>\n",
       "      <th>count</th>\n",
       "      <th>mean</th>\n",
       "      <th>std</th>\n",
       "      <th>min</th>\n",
       "      <th>25%</th>\n",
       "      <th>50%</th>\n",
       "      <th>75%</th>\n",
       "      <th>max</th>\n",
       "    </tr>\n",
       "  </thead>\n",
       "  <tbody>\n",
       "    <tr>\n",
       "      <th>LBE</th>\n",
       "      <td>2126.0</td>\n",
       "      <td>133.303857</td>\n",
       "      <td>9.840844</td>\n",
       "      <td>106.0</td>\n",
       "      <td>126.0</td>\n",
       "      <td>133.0</td>\n",
       "      <td>140.0</td>\n",
       "      <td>160.0</td>\n",
       "    </tr>\n",
       "    <tr>\n",
       "      <th>LB</th>\n",
       "      <td>2126.0</td>\n",
       "      <td>133.303857</td>\n",
       "      <td>9.840844</td>\n",
       "      <td>106.0</td>\n",
       "      <td>126.0</td>\n",
       "      <td>133.0</td>\n",
       "      <td>140.0</td>\n",
       "      <td>160.0</td>\n",
       "    </tr>\n",
       "    <tr>\n",
       "      <th>AC</th>\n",
       "      <td>2126.0</td>\n",
       "      <td>2.722484</td>\n",
       "      <td>3.560850</td>\n",
       "      <td>0.0</td>\n",
       "      <td>0.0</td>\n",
       "      <td>1.0</td>\n",
       "      <td>4.0</td>\n",
       "      <td>26.0</td>\n",
       "    </tr>\n",
       "    <tr>\n",
       "      <th>FM</th>\n",
       "      <td>2127.0</td>\n",
       "      <td>7.503056</td>\n",
       "      <td>39.030452</td>\n",
       "      <td>0.0</td>\n",
       "      <td>0.0</td>\n",
       "      <td>0.0</td>\n",
       "      <td>2.0</td>\n",
       "      <td>564.0</td>\n",
       "    </tr>\n",
       "    <tr>\n",
       "      <th>UC</th>\n",
       "      <td>2127.0</td>\n",
       "      <td>3.669017</td>\n",
       "      <td>2.877148</td>\n",
       "      <td>0.0</td>\n",
       "      <td>1.0</td>\n",
       "      <td>3.0</td>\n",
       "      <td>5.0</td>\n",
       "      <td>23.0</td>\n",
       "    </tr>\n",
       "    <tr>\n",
       "      <th>ASTV</th>\n",
       "      <td>2127.0</td>\n",
       "      <td>47.008933</td>\n",
       "      <td>17.210648</td>\n",
       "      <td>12.0</td>\n",
       "      <td>32.0</td>\n",
       "      <td>49.0</td>\n",
       "      <td>61.0</td>\n",
       "      <td>87.0</td>\n",
       "    </tr>\n",
       "    <tr>\n",
       "      <th>MSTV</th>\n",
       "      <td>2127.0</td>\n",
       "      <td>1.335449</td>\n",
       "      <td>0.891543</td>\n",
       "      <td>0.2</td>\n",
       "      <td>0.7</td>\n",
       "      <td>1.2</td>\n",
       "      <td>1.7</td>\n",
       "      <td>7.0</td>\n",
       "    </tr>\n",
       "    <tr>\n",
       "      <th>ALTV</th>\n",
       "      <td>2127.0</td>\n",
       "      <td>9.884814</td>\n",
       "      <td>18.476534</td>\n",
       "      <td>0.0</td>\n",
       "      <td>0.0</td>\n",
       "      <td>0.0</td>\n",
       "      <td>11.0</td>\n",
       "      <td>91.0</td>\n",
       "    </tr>\n",
       "    <tr>\n",
       "      <th>MLTV</th>\n",
       "      <td>2127.0</td>\n",
       "      <td>8.207616</td>\n",
       "      <td>5.701926</td>\n",
       "      <td>0.0</td>\n",
       "      <td>4.6</td>\n",
       "      <td>7.4</td>\n",
       "      <td>10.8</td>\n",
       "      <td>50.7</td>\n",
       "    </tr>\n",
       "    <tr>\n",
       "      <th>DL</th>\n",
       "      <td>2128.0</td>\n",
       "      <td>1.576128</td>\n",
       "      <td>2.517794</td>\n",
       "      <td>0.0</td>\n",
       "      <td>0.0</td>\n",
       "      <td>0.0</td>\n",
       "      <td>3.0</td>\n",
       "      <td>16.0</td>\n",
       "    </tr>\n",
       "    <tr>\n",
       "      <th>DS</th>\n",
       "      <td>2128.0</td>\n",
       "      <td>0.003759</td>\n",
       "      <td>0.061213</td>\n",
       "      <td>0.0</td>\n",
       "      <td>0.0</td>\n",
       "      <td>0.0</td>\n",
       "      <td>0.0</td>\n",
       "      <td>1.0</td>\n",
       "    </tr>\n",
       "    <tr>\n",
       "      <th>DP</th>\n",
       "      <td>2128.0</td>\n",
       "      <td>0.127820</td>\n",
       "      <td>0.471687</td>\n",
       "      <td>0.0</td>\n",
       "      <td>0.0</td>\n",
       "      <td>0.0</td>\n",
       "      <td>0.0</td>\n",
       "      <td>4.0</td>\n",
       "    </tr>\n",
       "    <tr>\n",
       "      <th>DR</th>\n",
       "      <td>2128.0</td>\n",
       "      <td>0.000000</td>\n",
       "      <td>0.000000</td>\n",
       "      <td>0.0</td>\n",
       "      <td>0.0</td>\n",
       "      <td>0.0</td>\n",
       "      <td>0.0</td>\n",
       "      <td>0.0</td>\n",
       "    </tr>\n",
       "    <tr>\n",
       "      <th>Width</th>\n",
       "      <td>2126.0</td>\n",
       "      <td>70.445908</td>\n",
       "      <td>38.955693</td>\n",
       "      <td>3.0</td>\n",
       "      <td>37.0</td>\n",
       "      <td>67.5</td>\n",
       "      <td>100.0</td>\n",
       "      <td>180.0</td>\n",
       "    </tr>\n",
       "    <tr>\n",
       "      <th>Min</th>\n",
       "      <td>2126.0</td>\n",
       "      <td>93.579492</td>\n",
       "      <td>29.560212</td>\n",
       "      <td>50.0</td>\n",
       "      <td>67.0</td>\n",
       "      <td>93.0</td>\n",
       "      <td>120.0</td>\n",
       "      <td>159.0</td>\n",
       "    </tr>\n",
       "    <tr>\n",
       "      <th>Max</th>\n",
       "      <td>2126.0</td>\n",
       "      <td>164.025400</td>\n",
       "      <td>17.944183</td>\n",
       "      <td>122.0</td>\n",
       "      <td>152.0</td>\n",
       "      <td>162.0</td>\n",
       "      <td>174.0</td>\n",
       "      <td>238.0</td>\n",
       "    </tr>\n",
       "    <tr>\n",
       "      <th>Nmax</th>\n",
       "      <td>2126.0</td>\n",
       "      <td>4.068203</td>\n",
       "      <td>2.949386</td>\n",
       "      <td>0.0</td>\n",
       "      <td>2.0</td>\n",
       "      <td>3.0</td>\n",
       "      <td>6.0</td>\n",
       "      <td>18.0</td>\n",
       "    </tr>\n",
       "    <tr>\n",
       "      <th>Nzeros</th>\n",
       "      <td>2126.0</td>\n",
       "      <td>0.323612</td>\n",
       "      <td>0.706059</td>\n",
       "      <td>0.0</td>\n",
       "      <td>0.0</td>\n",
       "      <td>0.0</td>\n",
       "      <td>0.0</td>\n",
       "      <td>10.0</td>\n",
       "    </tr>\n",
       "    <tr>\n",
       "      <th>Mode</th>\n",
       "      <td>2126.0</td>\n",
       "      <td>137.452023</td>\n",
       "      <td>16.381289</td>\n",
       "      <td>60.0</td>\n",
       "      <td>129.0</td>\n",
       "      <td>139.0</td>\n",
       "      <td>148.0</td>\n",
       "      <td>187.0</td>\n",
       "    </tr>\n",
       "    <tr>\n",
       "      <th>Mean</th>\n",
       "      <td>2126.0</td>\n",
       "      <td>134.610536</td>\n",
       "      <td>15.593596</td>\n",
       "      <td>73.0</td>\n",
       "      <td>125.0</td>\n",
       "      <td>136.0</td>\n",
       "      <td>145.0</td>\n",
       "      <td>182.0</td>\n",
       "    </tr>\n",
       "    <tr>\n",
       "      <th>Median</th>\n",
       "      <td>2126.0</td>\n",
       "      <td>138.090310</td>\n",
       "      <td>14.466589</td>\n",
       "      <td>77.0</td>\n",
       "      <td>129.0</td>\n",
       "      <td>139.0</td>\n",
       "      <td>148.0</td>\n",
       "      <td>186.0</td>\n",
       "    </tr>\n",
       "    <tr>\n",
       "      <th>Variance</th>\n",
       "      <td>2126.0</td>\n",
       "      <td>18.808090</td>\n",
       "      <td>28.977636</td>\n",
       "      <td>0.0</td>\n",
       "      <td>2.0</td>\n",
       "      <td>7.0</td>\n",
       "      <td>24.0</td>\n",
       "      <td>269.0</td>\n",
       "    </tr>\n",
       "    <tr>\n",
       "      <th>Tendency</th>\n",
       "      <td>2126.0</td>\n",
       "      <td>0.320320</td>\n",
       "      <td>0.610829</td>\n",
       "      <td>-1.0</td>\n",
       "      <td>0.0</td>\n",
       "      <td>0.0</td>\n",
       "      <td>1.0</td>\n",
       "      <td>1.0</td>\n",
       "    </tr>\n",
       "    <tr>\n",
       "      <th>A</th>\n",
       "      <td>2126.0</td>\n",
       "      <td>0.180621</td>\n",
       "      <td>0.384794</td>\n",
       "      <td>0.0</td>\n",
       "      <td>0.0</td>\n",
       "      <td>0.0</td>\n",
       "      <td>0.0</td>\n",
       "      <td>1.0</td>\n",
       "    </tr>\n",
       "    <tr>\n",
       "      <th>B</th>\n",
       "      <td>2126.0</td>\n",
       "      <td>0.272342</td>\n",
       "      <td>0.445270</td>\n",
       "      <td>0.0</td>\n",
       "      <td>0.0</td>\n",
       "      <td>0.0</td>\n",
       "      <td>1.0</td>\n",
       "      <td>1.0</td>\n",
       "    </tr>\n",
       "    <tr>\n",
       "      <th>C</th>\n",
       "      <td>2126.0</td>\n",
       "      <td>0.024929</td>\n",
       "      <td>0.155947</td>\n",
       "      <td>0.0</td>\n",
       "      <td>0.0</td>\n",
       "      <td>0.0</td>\n",
       "      <td>0.0</td>\n",
       "      <td>1.0</td>\n",
       "    </tr>\n",
       "    <tr>\n",
       "      <th>D</th>\n",
       "      <td>2126.0</td>\n",
       "      <td>0.038100</td>\n",
       "      <td>0.191482</td>\n",
       "      <td>0.0</td>\n",
       "      <td>0.0</td>\n",
       "      <td>0.0</td>\n",
       "      <td>0.0</td>\n",
       "      <td>1.0</td>\n",
       "    </tr>\n",
       "    <tr>\n",
       "      <th>E</th>\n",
       "      <td>2126.0</td>\n",
       "      <td>0.033866</td>\n",
       "      <td>0.180928</td>\n",
       "      <td>0.0</td>\n",
       "      <td>0.0</td>\n",
       "      <td>0.0</td>\n",
       "      <td>0.0</td>\n",
       "      <td>1.0</td>\n",
       "    </tr>\n",
       "    <tr>\n",
       "      <th>AD</th>\n",
       "      <td>2126.0</td>\n",
       "      <td>0.156162</td>\n",
       "      <td>0.363094</td>\n",
       "      <td>0.0</td>\n",
       "      <td>0.0</td>\n",
       "      <td>0.0</td>\n",
       "      <td>0.0</td>\n",
       "      <td>1.0</td>\n",
       "    </tr>\n",
       "    <tr>\n",
       "      <th>DE</th>\n",
       "      <td>2126.0</td>\n",
       "      <td>0.118532</td>\n",
       "      <td>0.323314</td>\n",
       "      <td>0.0</td>\n",
       "      <td>0.0</td>\n",
       "      <td>0.0</td>\n",
       "      <td>0.0</td>\n",
       "      <td>1.0</td>\n",
       "    </tr>\n",
       "    <tr>\n",
       "      <th>LD</th>\n",
       "      <td>2126.0</td>\n",
       "      <td>0.050329</td>\n",
       "      <td>0.218675</td>\n",
       "      <td>0.0</td>\n",
       "      <td>0.0</td>\n",
       "      <td>0.0</td>\n",
       "      <td>0.0</td>\n",
       "      <td>1.0</td>\n",
       "    </tr>\n",
       "    <tr>\n",
       "      <th>FS</th>\n",
       "      <td>2126.0</td>\n",
       "      <td>0.032455</td>\n",
       "      <td>0.177248</td>\n",
       "      <td>0.0</td>\n",
       "      <td>0.0</td>\n",
       "      <td>0.0</td>\n",
       "      <td>0.0</td>\n",
       "      <td>1.0</td>\n",
       "    </tr>\n",
       "    <tr>\n",
       "      <th>SUSP</th>\n",
       "      <td>2126.0</td>\n",
       "      <td>0.092662</td>\n",
       "      <td>0.290027</td>\n",
       "      <td>0.0</td>\n",
       "      <td>0.0</td>\n",
       "      <td>0.0</td>\n",
       "      <td>0.0</td>\n",
       "      <td>1.0</td>\n",
       "    </tr>\n",
       "    <tr>\n",
       "      <th>CLASS</th>\n",
       "      <td>2126.0</td>\n",
       "      <td>4.509878</td>\n",
       "      <td>3.026883</td>\n",
       "      <td>1.0</td>\n",
       "      <td>2.0</td>\n",
       "      <td>4.0</td>\n",
       "      <td>7.0</td>\n",
       "      <td>10.0</td>\n",
       "    </tr>\n",
       "    <tr>\n",
       "      <th>NSP</th>\n",
       "      <td>2126.0</td>\n",
       "      <td>1.304327</td>\n",
       "      <td>0.614377</td>\n",
       "      <td>1.0</td>\n",
       "      <td>1.0</td>\n",
       "      <td>1.0</td>\n",
       "      <td>1.0</td>\n",
       "      <td>3.0</td>\n",
       "    </tr>\n",
       "  </tbody>\n",
       "</table>\n",
       "</div>"
      ],
      "text/plain": [
       "           count        mean        std    min    25%    50%    75%    max\n",
       "LBE       2126.0  133.303857   9.840844  106.0  126.0  133.0  140.0  160.0\n",
       "LB        2126.0  133.303857   9.840844  106.0  126.0  133.0  140.0  160.0\n",
       "AC        2126.0    2.722484   3.560850    0.0    0.0    1.0    4.0   26.0\n",
       "FM        2127.0    7.503056  39.030452    0.0    0.0    0.0    2.0  564.0\n",
       "UC        2127.0    3.669017   2.877148    0.0    1.0    3.0    5.0   23.0\n",
       "ASTV      2127.0   47.008933  17.210648   12.0   32.0   49.0   61.0   87.0\n",
       "MSTV      2127.0    1.335449   0.891543    0.2    0.7    1.2    1.7    7.0\n",
       "ALTV      2127.0    9.884814  18.476534    0.0    0.0    0.0   11.0   91.0\n",
       "MLTV      2127.0    8.207616   5.701926    0.0    4.6    7.4   10.8   50.7\n",
       "DL        2128.0    1.576128   2.517794    0.0    0.0    0.0    3.0   16.0\n",
       "DS        2128.0    0.003759   0.061213    0.0    0.0    0.0    0.0    1.0\n",
       "DP        2128.0    0.127820   0.471687    0.0    0.0    0.0    0.0    4.0\n",
       "DR        2128.0    0.000000   0.000000    0.0    0.0    0.0    0.0    0.0\n",
       "Width     2126.0   70.445908  38.955693    3.0   37.0   67.5  100.0  180.0\n",
       "Min       2126.0   93.579492  29.560212   50.0   67.0   93.0  120.0  159.0\n",
       "Max       2126.0  164.025400  17.944183  122.0  152.0  162.0  174.0  238.0\n",
       "Nmax      2126.0    4.068203   2.949386    0.0    2.0    3.0    6.0   18.0\n",
       "Nzeros    2126.0    0.323612   0.706059    0.0    0.0    0.0    0.0   10.0\n",
       "Mode      2126.0  137.452023  16.381289   60.0  129.0  139.0  148.0  187.0\n",
       "Mean      2126.0  134.610536  15.593596   73.0  125.0  136.0  145.0  182.0\n",
       "Median    2126.0  138.090310  14.466589   77.0  129.0  139.0  148.0  186.0\n",
       "Variance  2126.0   18.808090  28.977636    0.0    2.0    7.0   24.0  269.0\n",
       "Tendency  2126.0    0.320320   0.610829   -1.0    0.0    0.0    1.0    1.0\n",
       "A         2126.0    0.180621   0.384794    0.0    0.0    0.0    0.0    1.0\n",
       "B         2126.0    0.272342   0.445270    0.0    0.0    0.0    1.0    1.0\n",
       "C         2126.0    0.024929   0.155947    0.0    0.0    0.0    0.0    1.0\n",
       "D         2126.0    0.038100   0.191482    0.0    0.0    0.0    0.0    1.0\n",
       "E         2126.0    0.033866   0.180928    0.0    0.0    0.0    0.0    1.0\n",
       "AD        2126.0    0.156162   0.363094    0.0    0.0    0.0    0.0    1.0\n",
       "DE        2126.0    0.118532   0.323314    0.0    0.0    0.0    0.0    1.0\n",
       "LD        2126.0    0.050329   0.218675    0.0    0.0    0.0    0.0    1.0\n",
       "FS        2126.0    0.032455   0.177248    0.0    0.0    0.0    0.0    1.0\n",
       "SUSP      2126.0    0.092662   0.290027    0.0    0.0    0.0    0.0    1.0\n",
       "CLASS     2126.0    4.509878   3.026883    1.0    2.0    4.0    7.0   10.0\n",
       "NSP       2126.0    1.304327   0.614377    1.0    1.0    1.0    1.0    3.0"
      ]
     },
     "execution_count": 6,
     "metadata": {},
     "output_type": "execute_result"
    }
   ],
   "source": [
    "df_cartography.describe().transpose()"
   ]
  },
  {
   "cell_type": "code",
   "execution_count": 7,
   "metadata": {},
   "outputs": [
    {
     "data": {
      "image/png": "[encoded data removed]",
      "text/plain": [
       "<Figure size 432x288 with 1 Axes>"
      ]
     },
     "metadata": {
      "needs_background": "light"
     },
     "output_type": "display_data"
    }
   ],
   "source": [
    "sns.countplot(x = 'NSP', data = df_cartography, palette = 'hls')\n",
    "plt.show()"
   ]
  },
  {
   "cell_type": "code",
   "execution_count": 8,
   "metadata": {},
   "outputs": [
    {
     "name": "stdout",
     "output_type": "stream",
     "text": [
      "\n"
     ]
    }
   ],
   "source": [
    "df_cartography.dropna(inplace=True)\n",
    "df_cartography.drop_duplicates(inplace=True)\n",
    "print()"
   ]
  },
  {
   "cell_type": "code",
   "execution_count": 9,
   "metadata": {},
   "outputs": [],
   "source": [
    "X = df_cartography.loc[:,(df_cartography.columns != 'NSP')]\n",
    "y = df_cartography['NSP']\n",
    "\n",
    "X_train, X_valid, y_train, y_valid = train_test_split(X, \n",
    "                                                      y, \n",
    "                                                      test_size=0.3, \n",
    "                                                      random_state=0)"
   ]
  },
  {
   "cell_type": "code",
   "execution_count": 10,
   "metadata": {},
   "outputs": [
    {
     "name": "stdout",
     "output_type": "stream",
     "text": [
      "\n",
      "{}\n",
      "R² 95.57%\n"
     ]
    }
   ],
   "source": [
    "from sklearn.model_selection import GridSearchCV\n",
    "clf = LogisticRegression()\n",
    "model = GridSearchCV(estimator=clf, \n",
    "                     param_grid={\n",
    "                     }, \n",
    "                     cv=10, \n",
    "                     n_jobs=2, \n",
    "                     scoring='r2')\n",
    "model.fit(X_train, y_train)\n",
    "print()\n",
    "print(model.best_params_)\n",
    "print('R² %.2f%%' % (model.best_score_*100))"
   ]
  },
  {
   "cell_type": "code",
   "execution_count": 11,
   "metadata": {},
   "outputs": [
    {
     "name": "stdout",
     "output_type": "stream",
     "text": [
      "R² 97.36%\n"
     ]
    }
   ],
   "source": [
    "predictions = model.predict(X_valid)\n",
    "print('R² %.2f%%' % (model.score(X_valid, y_valid)*100))"
   ]
  },
  {
   "cell_type": "code",
   "execution_count": 12,
   "metadata": {},
   "outputs": [
    {
     "name": "stdout",
     "output_type": "stream",
     "text": [
      "Mean square error: 0.01\n",
      "Mean absolute error: 0.01\n",
      "Coefficient of determination (R²): 97.36%\n"
     ]
    }
   ],
   "source": [
    "from sklearn.metrics import mean_absolute_error, r2_score, mean_squared_error\n",
    "\n",
    "print('Mean square error: %.2f'\n",
    "      % mean_squared_error(y_valid, predictions))\n",
    "\n",
    "# The mean squared error\n",
    "print('Mean absolute error: %.2f'\n",
    "      % mean_absolute_error(y_valid, predictions))\n",
    "\n",
    "# The coefficient of determination: 1 is perfect prediction\n",
    "print('Coefficient of determination (R²): %.2f%%'\n",
    "      % (r2_score(y_valid, predictions)*100))"
   ]
  },
  {
   "cell_type": "code",
   "execution_count": 13,
   "metadata": {},
   "outputs": [],
   "source": [
    "class_names=['Normal','Suspect','Pathologic']"
   ]
  },
  {
   "cell_type": "code",
   "execution_count": 14,
   "metadata": {},
   "outputs": [],
   "source": [
    "def matrix_confusao(y_test, y_pred, labels):\n",
    "    from sklearn.metrics import confusion_matrix  \n",
    "    from sklearn.metrics import accuracy_score\n",
    "    import matplotlib.pyplot as plt\n",
    "    import seaborn as sns; sns.set()\n",
    "    %matplotlib inline\n",
    "\n",
    "    cm = confusion_matrix(y_test, y_pred) \n",
    "\n",
    "    sns.heatmap(cm.T, square=True, annot=True, fmt='d', cbar=True,\n",
    "                xticklabels=labels, yticklabels=labels, cmap=\"coolwarm\")\n",
    "    plt.xlabel('Valores Reais')\n",
    "    plt.ylabel('Valores Previstos')"
   ]
  },
  {
   "cell_type": "code",
   "execution_count": 15,
   "metadata": {},
   "outputs": [
    {
     "data": {
      "image/png": "[encoded data removed]",
      "text/plain": [
       "<Figure size 432x288 with 2 Axes>"
      ]
     },
     "metadata": {
      "needs_background": "light"
     },
     "output_type": "display_data"
    }
   ],
   "source": [
    "matrix_confusao(y_valid,\n",
    "                predictions,\n",
    "                class_names)"
   ]
  },
  {
   "cell_type": "code",
   "execution_count": 16,
   "metadata": {},
   "outputs": [
    {
     "name": "stdout",
     "output_type": "stream",
     "text": [
      "             precision    recall  f1-score   support\n",
      "\n",
      "     Normal       0.99      0.99      0.99       509\n",
      "    Suspect       0.96      0.96      0.96        76\n",
      " Pathologic       1.00      1.00      1.00        50\n",
      "\n",
      "avg / total       0.99      0.99      0.99       635\n",
      "\n"
     ]
    }
   ],
   "source": [
    "from sklearn import metrics\n",
    "print(metrics.classification_report(y_valid, \n",
    "                                    predictions, \n",
    "                                    target_names=class_names))"
   ]
  },
  {
   "cell_type": "code",
   "execution_count": 17,
   "metadata": {},
   "outputs": [
    {
     "name": "stdout",
     "output_type": "stream",
     "text": [
      "Precision 0.9941060903732809\n",
      "Recall 0.9941060903732809\n",
      "Specificity 0.9605263157894737\n",
      "Accuracy: 0.9905511811023622\n"
     ]
    }
   ],
   "source": [
    "cnf_matrix = metrics.confusion_matrix(y_valid, predictions)\n",
    "\n",
    "print('Precision', cnf_matrix[0, 0] / sum(cnf_matrix[:, 0]))\n",
    "print('Recall', cnf_matrix[0, 0] / sum(cnf_matrix[0, :]))\n",
    "print('Specificity', cnf_matrix[1, 1] / sum(cnf_matrix[1, :]))\n",
    "print(\"Accuracy:\",metrics.accuracy_score(y_valid, predictions))"
   ]
  },
  {
   "cell_type": "code",
   "execution_count": 18,
   "metadata": {},
   "outputs": [
    {
     "data": {
      "text/plain": [
       "Text(0.5,257.44,'Predicted label')"
      ]
     },
     "execution_count": 18,
     "metadata": {},
     "output_type": "execute_result"
    },
    {
     "data": {
      "image/png": "[encoded data removed]",
      "text/plain": [
       "<Figure size 432x288 with 2 Axes>"
      ]
     },
     "metadata": {
      "needs_background": "light"
     },
     "output_type": "display_data"
    }
   ],
   "source": [
    "fig, ax = plt.subplots()\n",
    "tick_marks = np.arange(len(class_names))\n",
    "plt.xticks(tick_marks, class_names)\n",
    "plt.yticks(tick_marks, class_names)\n",
    "sns.heatmap(pd.DataFrame(cnf_matrix), annot=True, cmap=\"coolwarm\" ,fmt='g')\n",
    "ax.xaxis.set_label_position(\"top\")\n",
    "plt.tight_layout()\n",
    "plt.title('Confusion matrix', y=1.1)\n",
    "plt.ylabel('Actual label')\n",
    "plt.xlabel('Predicted label')"
   ]
  },
  {
   "cell_type": "code",
   "execution_count": 19,
   "metadata": {},
   "outputs": [
    {
     "name": "stdout",
     "output_type": "stream",
     "text": [
      "Area under curve :  0.9875760260093785\n"
     ]
    }
   ],
   "source": [
    "def multiclass_roc_auc_score(y_test, y_pred, average=\"macro\"):\n",
    "    lb = LabelBinarizer()\n",
    "    lb.fit(y_test)\n",
    "    y_test = lb.transform(y_test)\n",
    "    y_pred = lb.transform(y_pred)\n",
    "    return roc_auc_score(y_test, y_pred, average=average)\n",
    "\n",
    "auc = multiclass_roc_auc_score(y_valid, predictions, average=\"macro\")\n",
    "print(\"Area under curve : \", auc)"
   ]
  },
  {
   "cell_type": "markdown",
   "metadata": {},
   "source": [
    "# Redução Para Visualização"
   ]
  },
  {
   "cell_type": "code",
   "execution_count": 20,
   "metadata": {},
   "outputs": [],
   "source": [
    "from sklearn.decomposition import PCA\n",
    "pca_cartography = PCA(n_components=2)\n",
    "principalComponents_cartography = pca_cartography.fit_transform(X_valid)"
   ]
  },
  {
   "cell_type": "code",
   "execution_count": 21,
   "metadata": {},
   "outputs": [],
   "source": [
    "principal_cartography_Df = pd.DataFrame(data = principalComponents_cartography, \n",
    "                                        columns = ['principal component 1', \n",
    "                                                   'principal component 2'])\n",
    "principal_cartography_Df['y']        = y_valid\n",
    "principal_cartography_Df['predicts'] = predictions"
   ]
  },
  {
   "cell_type": "code",
   "execution_count": 22,
   "metadata": {},
   "outputs": [
    {
     "data": {
      "text/plain": [
       "<matplotlib.axes._subplots.AxesSubplot at 0x1e0d190a908>"
      ]
     },
     "execution_count": 22,
     "metadata": {},
     "output_type": "execute_result"
    },
    {
     "data": {
      "image/png": "[encoded data removed]",
      "text/plain": [
       "<Figure size 1152x720 with 1 Axes>"
      ]
     },
     "metadata": {
      "needs_background": "light"
     },
     "output_type": "display_data"
    }
   ],
   "source": [
    "import seaborn as sns\n",
    "plt.figure(figsize=(16,10))\n",
    "sns.scatterplot(\n",
    "    x=\"principal component 1\", y=\"principal component 2\",\n",
    "    hue=\"y\",    \n",
    "    data=principal_cartography_Df,    \n",
    "    alpha=0.7,\n",
    "    palette=\"mako\"\n",
    ")"
   ]
  },
  {
   "cell_type": "code",
   "execution_count": 23,
   "metadata": {},
   "outputs": [
    {
     "data": {
      "image/png": "[encoded data removed]",
      "text/plain": [
       "<Figure size 1440x1080 with 1 Axes>"
      ]
     },
     "metadata": {
      "needs_background": "light"
     },
     "output_type": "display_data"
    }
   ],
   "source": [
    "# Plot outputs\n",
    "plt.figure(figsize=(20,15))\n",
    "plt.scatter(x=\"principal component 1\", \n",
    "            y=\"y\",  \n",
    "            color=\"black\", \n",
    "            linewidths=3,\n",
    "            data=principal_cartography_Df)\n",
    "plt.scatter(x=\"principal component 1\", \n",
    "            y=\"predicts\", \n",
    "            color=\"green\", \n",
    "            data=principal_cartography_Df)\n",
    "\n",
    "#plt.xticks(())\n",
    "#plt.yticks(())\n",
    "\n",
    "plt.title(\"Fetal State Class Code (N=Normal; S=Suspect; P=Pathologic)\")\n",
    "plt.xlabel('PCA1')\n",
    "plt.ylabel('Y / Yhat')\n",
    "\n",
    "plt.legend()\n",
    "plt.grid()\n",
    "\n",
    "plt.show()"
   ]
  },
  {
   "cell_type": "code",
   "execution_count": 24,
   "metadata": {},
   "outputs": [
    {
     "data": {
      "image/png": "[encoded data removed]",
      "text/plain": [
       "<Figure size 1440x1080 with 1 Axes>"
      ]
     },
     "metadata": {
      "needs_background": "light"
     },
     "output_type": "display_data"
    }
   ],
   "source": [
    "# Plot outputs\n",
    "plt.figure(figsize=(20,15))\n",
    "plt.scatter(x=\"principal component 2\", \n",
    "            y=\"y\",  \n",
    "            color='black', \n",
    "            linewidths=3, \n",
    "            data=principal_cartography_Df)\n",
    "plt.scatter(x=\"principal component 2\", \n",
    "            y=\"predicts\", \n",
    "            color='blue', \n",
    "            data=principal_cartography_Df)\n",
    "\n",
    "#plt.xticks(())\n",
    "#plt.yticks(())\n",
    "\n",
    "plt.title(\"Fetal State Class Code (N=Normal; S=Suspect; P=Pathologic)\")\n",
    "plt.xlabel('PCA2')\n",
    "plt.ylabel('Y / Yhat')\n",
    "\n",
    "plt.legend()\n",
    "plt.grid()\n",
    "\n",
    "plt.show()"
   ]
  }
 ],
 "metadata": {
  "kernelspec": {
   "display_name": "Python 3",
   "language": "python",
   "name": "python3"
  },
  "language_info": {
   "codemirror_mode": {
    "name": "ipython",
    "version": 3
   },
   "file_extension": ".py",
   "mimetype": "text/x-python",
   "name": "python",
   "nbconvert_exporter": "python",
   "pygments_lexer": "ipython3",
   "version": "3.7.1"
  }
 },
 "nbformat": 4,
 "nbformat_minor": 2
}
