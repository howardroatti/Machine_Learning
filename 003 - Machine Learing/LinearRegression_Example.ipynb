{
 "cells": [
  {
   "cell_type": "code",
   "execution_count": 1,
   "metadata": {},
   "outputs": [],
   "source": [
    "import numpy as np\n",
    "X = 2 * np.random.rand(100, 1)\n",
    "y = 4 + 3 * X + np.random.rand(100, 1)"
   ]
  },
  {
   "cell_type": "code",
   "execution_count": 4,
   "metadata": {
    "scrolled": true
   },
   "outputs": [
    {
     "data": {
      "text/plain": [
       "array([[ 5.53520303],\n",
       "       [ 6.25202933],\n",
       "       [ 9.98456871],\n",
       "       [ 7.35374334],\n",
       "       [ 5.77641362],\n",
       "       [10.02717213],\n",
       "       [ 8.80131686],\n",
       "       [ 4.68593735],\n",
       "       [ 8.99714787],\n",
       "       [ 4.9647293 ],\n",
       "       [ 6.11364977],\n",
       "       [ 7.37580812],\n",
       "       [ 6.64390525],\n",
       "       [ 7.85110983],\n",
       "       [ 9.51344264],\n",
       "       [ 5.93225649],\n",
       "       [ 4.33588472],\n",
       "       [ 4.80521459],\n",
       "       [ 4.73496999],\n",
       "       [ 5.0444354 ],\n",
       "       [ 7.89277701],\n",
       "       [ 9.66051043],\n",
       "       [ 5.40620067],\n",
       "       [ 9.39370665],\n",
       "       [ 8.85078783],\n",
       "       [ 6.24017061],\n",
       "       [ 8.68321896],\n",
       "       [ 7.82887333],\n",
       "       [10.96396056],\n",
       "       [ 9.51126718],\n",
       "       [ 9.9413305 ],\n",
       "       [ 7.44911594],\n",
       "       [ 8.94811927],\n",
       "       [ 9.57216726],\n",
       "       [ 6.51955974],\n",
       "       [ 6.54322186],\n",
       "       [ 8.99302309],\n",
       "       [ 4.56886828],\n",
       "       [ 7.34892363],\n",
       "       [ 6.39039204],\n",
       "       [ 5.04180966],\n",
       "       [ 4.62198746],\n",
       "       [ 8.877177  ],\n",
       "       [ 4.92222364],\n",
       "       [ 7.602747  ],\n",
       "       [ 7.6383345 ],\n",
       "       [ 5.32962532],\n",
       "       [ 6.12198085],\n",
       "       [ 9.94253269],\n",
       "       [ 5.45083757],\n",
       "       [ 8.80403398],\n",
       "       [ 9.04027981],\n",
       "       [ 9.19492876],\n",
       "       [ 8.8880754 ],\n",
       "       [ 5.89426963],\n",
       "       [10.03630782],\n",
       "       [ 6.94578995],\n",
       "       [ 6.23380599],\n",
       "       [ 9.13446467],\n",
       "       [ 8.09584787],\n",
       "       [10.30276838],\n",
       "       [ 9.39989166],\n",
       "       [ 7.47402325],\n",
       "       [ 5.39401707],\n",
       "       [ 4.99730589],\n",
       "       [ 8.39642062],\n",
       "       [ 6.14177803],\n",
       "       [ 6.08364914],\n",
       "       [ 5.19015842],\n",
       "       [ 7.03230096],\n",
       "       [ 7.53837362],\n",
       "       [ 5.53207301],\n",
       "       [ 6.99928989],\n",
       "       [ 8.34026493],\n",
       "       [ 7.23169955],\n",
       "       [ 9.08688618],\n",
       "       [ 5.28747288],\n",
       "       [ 4.52672643],\n",
       "       [ 5.11108963],\n",
       "       [ 5.7460643 ],\n",
       "       [ 9.0599978 ],\n",
       "       [ 9.93006333],\n",
       "       [ 7.5007113 ],\n",
       "       [ 8.24649905],\n",
       "       [ 6.96291043],\n",
       "       [ 6.52922463],\n",
       "       [ 7.09516676],\n",
       "       [ 6.18089565],\n",
       "       [ 9.24348235],\n",
       "       [ 8.53102994],\n",
       "       [ 7.61858157],\n",
       "       [ 6.30355881],\n",
       "       [ 5.99336375],\n",
       "       [ 8.26979419],\n",
       "       [ 6.32845517],\n",
       "       [ 6.46577483],\n",
       "       [ 8.04973492],\n",
       "       [ 4.16821991],\n",
       "       [ 7.05845032],\n",
       "       [ 6.66676861]])"
      ]
     },
     "execution_count": 4,
     "metadata": {},
     "output_type": "execute_result"
    }
   ],
   "source": [
    "y"
   ]
  },
  {
   "cell_type": "code",
   "execution_count": 5,
   "metadata": {},
   "outputs": [
    {
     "data": {
      "image/png": "[encoded data removed]",
      "text/plain": [
       "<Figure size 432x288 with 1 Axes>"
      ]
     },
     "metadata": {
      "needs_background": "light"
     },
     "output_type": "display_data"
    }
   ],
   "source": [
    "import matplotlib.pyplot as plt\n",
    "%matplotlib inline\n",
    "\n",
    "plt.plot(X, y, \"b.\")\n",
    "plt.axis([0, 2, 0, 15])\n",
    "plt.show()"
   ]
  },
  {
   "cell_type": "code",
   "execution_count": 6,
   "metadata": {},
   "outputs": [
    {
     "name": "stdout",
     "output_type": "stream",
     "text": [
      "Intercept: [4.44935875]\n",
      "\n",
      "Coefficient: [[3.03235453]]\n",
      "\n",
      "Predicted: [[ 4.44935875 10.51406782]]\n"
     ]
    }
   ],
   "source": [
    "from sklearn.linear_model import LinearRegression\n",
    "reg = LinearRegression()\n",
    "reg.fit(X, y)\n",
    "X_new = np.array([[0],[2]])\n",
    "y_predicted = reg.predict(X_new)\n",
    "print(\"Intercept:\", reg.intercept_)\n",
    "print()\n",
    "print(\"Coefficient:\",reg.coef_)\n",
    "print()\n",
    "print(\"Predicted:\", y_predicted.reshape(1,-1))"
   ]
  },
  {
   "cell_type": "code",
   "execution_count": 7,
   "metadata": {},
   "outputs": [
    {
     "data": {
      "image/png": "[encoded data removed]",
      "text/plain": [
       "<Figure size 432x288 with 1 Axes>"
      ]
     },
     "metadata": {
      "needs_background": "light"
     },
     "output_type": "display_data"
    }
   ],
   "source": [
    "plt.plot(X_new, y_predicted, \"r-\")\n",
    "plt.axis([0, 2, 0, 15])\n",
    "plt.show()"
   ]
  },
  {
   "cell_type": "code",
   "execution_count": 8,
   "metadata": {},
   "outputs": [
    {
     "data": {
      "image/png": "[encoded data removed]",
      "text/plain": [
       "<Figure size 432x288 with 1 Axes>"
      ]
     },
     "metadata": {
      "needs_background": "light"
     },
     "output_type": "display_data"
    }
   ],
   "source": [
    "plt.plot(X, y, \"b.\")\n",
    "plt.plot(X_new, y_predicted, \"r-\")\n",
    "plt.axis([0, 2, 0, 15])\n",
    "plt.show()"
   ]
  }
 ],
 "metadata": {
  "kernelspec": {
   "display_name": "Python 3",
   "language": "python",
   "name": "python3"
  },
  "language_info": {
   "codemirror_mode": {
    "name": "ipython",
    "version": 3
   },
   "file_extension": ".py",
   "mimetype": "text/x-python",
   "name": "python",
   "nbconvert_exporter": "python",
   "pygments_lexer": "ipython3",
   "version": "3.7.0"
  }
 },
 "nbformat": 4,
 "nbformat_minor": 4
}
