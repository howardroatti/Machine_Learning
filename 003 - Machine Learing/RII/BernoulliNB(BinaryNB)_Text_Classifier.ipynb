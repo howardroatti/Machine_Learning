{
 "cells": [
  {
   "cell_type": "markdown",
   "metadata": {},
   "source": [
    "https://scikit-learn.org/stable/tutorial/text_analytics/working_with_text_data.html"
   ]
  },
  {
   "cell_type": "code",
   "execution_count": 1,
   "metadata": {},
   "outputs": [],
   "source": [
    "categories = ['alt.atheism', 'soc.religion.christian', 'comp.graphics', 'sci.med']"
   ]
  },
  {
   "cell_type": "code",
   "execution_count": 2,
   "metadata": {},
   "outputs": [],
   "source": [
    "from sklearn.datasets import fetch_20newsgroups\n",
    "twenty_train = fetch_20newsgroups(subset='train', categories=categories, shuffle=True, random_state=42)"
   ]
  },
  {
   "cell_type": "code",
   "execution_count": 3,
   "metadata": {},
   "outputs": [
    {
     "data": {
      "text/plain": [
       "['alt.atheism', 'comp.graphics', 'sci.med', 'soc.religion.christian']"
      ]
     },
     "execution_count": 3,
     "metadata": {},
     "output_type": "execute_result"
    }
   ],
   "source": [
    "twenty_train.target_names"
   ]
  },
  {
   "cell_type": "code",
   "execution_count": 4,
   "metadata": {},
   "outputs": [
    {
     "name": "stdout",
     "output_type": "stream",
     "text": [
      "2257\n",
      "2257\n"
     ]
    }
   ],
   "source": [
    "print(len(twenty_train.data))\n",
    "print(len(twenty_train.filenames))"
   ]
  },
  {
   "cell_type": "code",
   "execution_count": 5,
   "metadata": {},
   "outputs": [
    {
     "name": "stdout",
     "output_type": "stream",
     "text": [
      "From: sd345@city.ac.uk (Michael Collier)\n",
      "Subject: Converting images to HP LaserJet III?\n",
      "Nntp-Posting-Host: hampton\n",
      "Organization: The City University\n",
      "Lines: 14\n",
      "\n",
      "Does anyone know of a good way (standard PC application/PD utility) to\n",
      "convert tif/img/tga files into LaserJet III format.  We would also like to\n",
      "do the same, converting to HPGL (HP plotter) files.\n",
      "\n",
      "Please email any response.\n",
      "\n",
      "Is this the correct group?\n",
      "\n",
      "Thanks in advance.  Michael.\n",
      "-- \n",
      "Michael Collier (Programmer)                 The Computer Unit,\n",
      "Email: M.P.Collier@uk.ac.city                The City University,\n",
      "Tel: 071 477-8000 x3769                      London,\n",
      "Fax: 071 477-8565                            EC1V 0HB.\n",
      "\n",
      "From: ani@ms.uky.edu (Aniruddha B. Deglurkar)\n",
      "Subject: help: Splitting a trimming region along a mesh \n",
      "Organization: University Of Kentucky, Dept. of Math Sciences\n",
      "Lines: 28\n",
      "\n",
      "\n",
      "\n",
      "\tHi,\n",
      "\n",
      "\tI have a problem, I hope some of the 'gurus' can help me solve.\n",
      "\n",
      "\tBackground of the problem:\n",
      "\tI have a rectangular mesh in the uv domain, i.e  the mesh is a \n",
      "\tmapping of a 3d Bezier patch into 2d. The area in this domain\n",
      "\twhich is inside a trimming loop had to be rendered. The trimming\n",
      "\tloop is a set of 2d Bezier curve segments.\n",
      "\tFor the sake of notation: the mesh is made up of cells.\n",
      "\n",
      "\tMy problem is this :\n",
      "\tThe trimming area has to be split up into individual smaller\n",
      "\tcells bounded by the trimming curve segments. If a cell\n",
      "\tis wholly inside the area...then it is output as a whole ,\n",
      "\telse it is trivially rejected. \n",
      "\n",
      "\tDoes any body know how thiss can be done, or is there any algo. \n",
      "\tsomewhere for doing this.\n",
      "\n",
      "\tAny help would be appreciated.\n",
      "\n",
      "\tThanks, \n",
      "\tAni.\n",
      "-- \n",
      "To get irritated is human, to stay cool, divine.\n",
      "\n",
      "From: djohnson@cs.ucsd.edu (Darin Johnson)\n",
      "Subject: Re: harrassed at work, could use some prayers\n",
      "Organization: =CSE Dept., U.C. San Diego\n",
      "Lines: 63\n",
      "\n",
      "(Well, I'll email also, but this may apply to other people, so\n",
      "I'll post also.)\n",
      "\n",
      ">I've been working at this company for eight years in various\n",
      ">engineering jobs.  I'm female.  Yesterday I counted and realized that\n",
      ">on seven different occasions I've been sexually harrassed at this\n",
      ">company.\n",
      "\n",
      ">I dreaded coming back to work today.  What if my boss comes in to ask\n",
      ">me some kind of question...\n",
      "\n",
      "Your boss should be the person bring these problems to.  If he/she\n",
      "does not seem to take any action, keep going up higher and higher.\n",
      "Sexual harrassment does not need to be tolerated, and it can be an\n",
      "enormous emotional support to discuss this with someone and know that\n",
      "they are trying to do something about it.  If you feel you can not\n",
      "discuss this with your boss, perhaps your company has a personnel\n",
      "department that can work for you while preserving your privacy.  Most\n",
      "companies will want to deal with this problem because constant anxiety\n",
      "does seriously affect how effectively employees do their jobs.\n",
      "\n",
      "It is unclear from your letter if you have done this or not.  It is\n",
      "not inconceivable that management remains ignorant of employee\n",
      "problems/strife even after eight years (it's a miracle if they do\n",
      "notice).  Perhaps your manager did not bring to the attention of\n",
      "higher ups?  If the company indeed does seem to want to ignore the\n",
      "entire problem, there may be a state agency willing to fight with\n",
      "you.  (check with a lawyer, a women's resource center, etc to find out)\n",
      "\n",
      "You may also want to discuss this with your paster, priest, husband,\n",
      "etc.  That is, someone you know will not be judgemental and that is\n",
      "supportive, comforting, etc.  This will bring a lot of healing.\n",
      "\n",
      ">So I returned at 11:25, only to find that ever single\n",
      ">person had already left for lunch.  They left at 11:15 or so.  No one\n",
      ">could be bothered to call me at the other building, even though my\n",
      ">number was posted.\n",
      "\n",
      "This happens to a lot of people.  Honest.  I believe it may seem\n",
      "to be due to gross insensitivity because of the feelings you are\n",
      "going through.  People in offices tend to be more insensitive while\n",
      "working than they normally are (maybe it's the hustle or stress or...)\n",
      "I've had this happen to me a lot, often because they didn't realize\n",
      "my car was broken, etc.  Then they will come back and wonder why I\n",
      "didn't want to go (this would tend to make me stop being angry at\n",
      "being ignored and make me laugh).  Once, we went off without our\n",
      "boss, who was paying for the lunch :-)\n",
      "\n",
      ">For this\n",
      ">reason I hope good Mr. Moderator allows me this latest indulgence.\n",
      "\n",
      "Well, if you can't turn to the computer for support, what would\n",
      "we do?  (signs of the computer age :-)\n",
      "\n",
      "In closing, please don't let the hateful actions of a single person\n",
      "harm you.  They are doing it because they are still the playground\n",
      "bully and enjoy seeing the hurt they cause.  And you should not\n",
      "accept the opinions of an imbecile that you are worthless - much\n",
      "wiser people hold you in great esteem.\n",
      "-- \n",
      "Darin Johnson\n",
      "djohnson@ucsd.edu\n",
      "  - Luxury!  In MY day, we had to make do with 5 bytes of swap...\n",
      "\n",
      "From: s0612596@let.rug.nl (M.M. Zwart)\n",
      "Subject: catholic church poland\n",
      "Organization: Faculteit der Letteren, Rijksuniversiteit Groningen, NL\n",
      "Lines: 10\n",
      "\n",
      "Hello,\n",
      "\n",
      "I'm writing a paper on the role of the catholic church in Poland after 1989. \n",
      "Can anyone tell me more about this, or fill me in on recent books/articles(\n",
      "in english, german or french). Most important for me is the role of the \n",
      "church concerning the abortion-law, religious education at schools,\n",
      "birth-control and the relation church-state(government). Thanx,\n",
      "\n",
      "                                                 Masja,\n",
      "\"M.M.Zwart\"<s0612596@let.rug.nl>\n",
      "\n",
      "From: stanly@grok11.columbiasc.ncr.com (stanly)\n",
      "Subject: Re: Elder Brother\n",
      "Organization: NCR Corp., Columbia SC\n",
      "Lines: 15\n",
      "\n",
      "In article <Apr.8.00.57.41.1993.28246@athos.rutgers.edu> REXLEX@fnal.gov writes:\n",
      ">In article <Apr.7.01.56.56.1993.22824@athos.rutgers.edu> shrum@hpfcso.fc.hp.com\n",
      ">Matt. 22:9-14 'Go therefore to the main highways, and as many as you find\n",
      ">there, invite to the wedding feast.'...\n",
      "\n",
      ">hmmmmmm.  Sounds like your theology and Christ's are at odds. Which one am I \n",
      ">to believe?\n",
      "\n",
      "In this parable, Jesus tells the parable of the wedding feast. \"The kingdom\n",
      "of heaven is like unto a certain king which made a marriage for his son\".\n",
      "So the wedding clothes were customary,  and \"given\" to those who \"chose\" to\n",
      "attend.  This man \"refused\" to wear the clothes.  The wedding clothes are\n",
      "equalivant to the \"clothes of righteousness\".  When Jesus died for our sins,\n",
      "those \"clothes\" were then provided.  Like that man, it is our decision to\n",
      "put the clothes on.\n",
      "\n",
      "From: vbv@lor.eeap.cwru.edu (Virgilio (Dean) B. Velasco Jr.)\n",
      "Subject: Re: The arrogance of Christians\n",
      "Organization: Case Western Reserve Univ. Cleveland, Ohio (USA)\n",
      "Lines: 28\n",
      "\n",
      "In article <Apr.22.00.56.15.1993.2073@geneva.rutgers.edu> hayesstw@risc1.unisa.ac.za (Steve Hayes) writes:\n",
      "\n",
      ">A similar analogy might be a medical doctor who believes that a blood \n",
      ">transfusion is necessary to save the life of a child whose parents are \n",
      ">Jehovah's Witnesses and so have conscientious objections to blood \n",
      ">transfusion. The doctor's efforts to persuade them to agree to a blood \n",
      ">transfusion could be perceived to be arrogant in precisely the same way as \n",
      ">Christians could be perceived to be arrogant.\n",
      "\n",
      ">The truth or otherwise of the belief that a blood transfusion is necessary \n",
      ">to save the life of the child is irrelevant here. What matters is that the \n",
      ">doctor BELIEVES it to be true, and could be seen to be trying to foce his \n",
      ">beliefs on the parents, and this could well be perceived as arrogance.\n",
      "\n",
      "Let me carry that a step further.  Most doctors would not claim to be \n",
      "infallible.  Indeed, they would generally admit that they could conceivably\n",
      "be wrong, e.g. that in this case, a blood tranfusion might not turn out to \n",
      "be necessary after all.  However, the doctors would have enough confidence\n",
      "and conviction to claim, out of genuine concern, that is IS necessary.  As\n",
      "fallible human beings, they must acknowledge the possibility that they are\n",
      "wrong.  However, they would also say that such doubts are not reasonable,\n",
      "and stand by their convictions.\n",
      "\n",
      "-- \n",
      "Virgilio \"Dean\" Velasco Jr, Department of Electrical Eng'g and Applied Physics \n",
      "\t CWRU graduate student, roboticist-in-training and Q wannabee\n",
      "    \"Bullwinkle, that man's intimidating a referee!\"   |    My boss is a \n",
      "   \"Not very well.  He doesn't look like one at all!\"  |  Jewish carpenter.\n",
      "\n",
      "From: jodfishe@silver.ucs.indiana.edu (joseph dale fisher)\n",
      "Subject: Re: anger\n",
      "Organization: Indiana University\n",
      "Lines: 34\n",
      "\n",
      "In article <Apr.17.01.10.44.1993.2232@geneva.rutgers.edu> news@cbnewsk.att.com writes:\n",
      ">>Paul Conditt writes:\n",
      "[insert deletion of Paul's and Aaron's discourse on anger, ref Galatians\n",
      "5:19-20]\n",
      ">\n",
      ">I don't know why it is so obvious.  We are not speaking of acts of the \n",
      ">flesh.  We are just speaking of emotions.  Emotions are not of themselves\n",
      ">moral or immoral, good or bad.  Emotions just are.  The first step is\n",
      ">not to label his emotion as good or bad or to numb ourselves so that\n",
      ">we hide our true feelings, it is to accept ourselves as we are, as God\n",
      ">accepts us.  \n",
      "\n",
      "Oh, but they definitely can be.  Please look at Colossians 3:5-10 and\n",
      "Ephesians 4:25-27.  Emotions can be controlled and God puts very strong\n",
      "emphasis on self-control, otherwise, why would he have Paul write to\n",
      "Timothy so much about making sure to teach self-control? \n",
      "\n",
      "[insert deletion of remainder of paragraph]\n",
      "\n",
      ">\n",
      ">Re-think it, Aaron.  Don't be quick to judge.  He has forgiven those with\n",
      ">AIDS, he has dealt with and taken responsibility for his feelings and made\n",
      ">appropriate choices for action on such feelings.  He has not given in to\n",
      ">his anger.\n",
      "\n",
      "Please, re-think and re-read for yourself, Joe.  Again, the issue is\n",
      "self-control especially over feelings and actions, for our actions stem\n",
      "from our feelings in many instances.  As for God giving in to his anger,\n",
      "that comes very soon.\n",
      "\n",
      ">\n",
      ">Joe Moore\n",
      "\n",
      "Joe Fisher\n",
      "\n",
      "From: aldridge@netcom.com (Jacquelin Aldridge)\n",
      "Subject: Re: Teenage acne\n",
      "Organization: NETCOM On-line Communication Services (408 241-9760 guest)\n",
      "Lines: 57\n",
      "\n",
      "pchurch@swell.actrix.gen.nz (Pat Churchill) writes:\n",
      "\n",
      "\n",
      ">My 14-y-o son has the usual teenage spotty chin and greasy nose.  I\n",
      ">bought him Clearasil face wash and ointment.  I think that is probably\n",
      ">enough, along with the usual good diet.  However, he is on at me to\n",
      ">get some product called Dalacin T, which used to be a\n",
      ">doctor's-prescription only treatment but is not available over the\n",
      ">chemist's counter.  I have asked a couple of pharmacists who say\n",
      ">either his acne is not severe enough for Dalacin T, or that Clearasil\n",
      ">is OK.  I had the odd spots as a teenager, nothing serious.  His\n",
      ">father was the same, so I don't figure his acne is going to escalate\n",
      ">into something disfiguring.  But I know kids are senstitive about\n",
      ">their appearance.  I am wary because a neighbour's son had this wierd\n",
      ">malady that was eventually put down to an overdose of vitamin A from\n",
      ">acne treatment.  I want to help - but with appropriate treatment.\n",
      "\n",
      ">My son also has some scaliness around the hairline on his scalp.  Sort\n",
      ">of teenage cradle cap.  Any pointers/advice on this?  We have tried a\n",
      ">couple of anti dandruff shampoos and some of these are inclined to\n",
      ">make the condition worse, not better.\n",
      "\n",
      ">Shall I bury the kid till he's 21 :)\n",
      "\n",
      ":) No...I was one of the lucky ones. Very little acne as a teenager. I\n",
      "didn't have any luck with clearasil. Even though my skin gets oily it\n",
      "really only gets miserable pimples when it's dry. \n",
      "\n",
      "Frequent lukewarm water rinses on the face might help. Getting the scalp\n",
      "thing under control might help (that could be as simple as submerging under\n",
      "the bathwater till it's softened and washing it out). Taking a one a day\n",
      "vitamin/mineral might help. I've heard iodine causes trouble and that it  \n",
      "is used in fast food restaurants to sterilize equipment which might be\n",
      "where the belief that greasy foods cause acne came from. I notice grease \n",
      "on my face, not immediately removed will cause acne (even from eating\n",
      "meat).\n",
      "\n",
      "Keeping hair rinse, mousse, dip, and spray off the face will help. Warm\n",
      "water bath soaks or cloths on the face to soften the oil in the pores will\n",
      "help prevent blackheads. Body oil is hydrophilic, loves water and it\n",
      "softens and washes off when it has a chance. That's why hair goes limp with\n",
      "oilyness. \n",
      "\n",
      "Becoming convinced that the best thing to do with\n",
      "a whitehead is leave it alone will save him days of pimple misery. Any\n",
      "prying of black or whiteheads can cause infections, the red spots of\n",
      "pimples. Usually a whitehead will break naturally in a day and there won't\n",
      "be an infection afterwards.\n",
      "\n",
      "Tell him that it's normal to have some pimples but the cosmetic industry\n",
      "makes it's money off of selling people on the idea that they are an\n",
      "incredible defect to be hidden at any cost (even that of causing more pimples). \n",
      "\n",
      "\n",
      "-Jackie-\n",
      "\n",
      "\n",
      "\n",
      "From: geb@cs.pitt.edu (Gordon Banks)\n",
      "Subject: Re: Blindsight\n",
      "Reply-To: geb@cs.pitt.edu (Gordon Banks)\n",
      "Organization: Univ. of Pittsburgh Computer Science\n",
      "Lines: 18\n",
      "\n",
      "In article <werner-240393161954@tol7mac15.soe.berkeley.edu> werner@soe.berkeley.edu (John Werner) writes:\n",
      ">In article <19213@pitt.UUCP>, geb@cs.pitt.edu (Gordon Banks) wrote:\n",
      ">> \n",
      ">> Explain.  I thought there were 3 types of cones, equivalent to RGB.\n",
      ">\n",
      ">You're basically right, but I think there are just 2 types.  One is\n",
      ">sensitive to red and green, and the other is sensitive to blue and yellow. \n",
      ">This is why the two most common kinds of color-blindness are red-green and\n",
      ">blue-yellow.\n",
      ">\n",
      "\n",
      "Yes, I remember that now.  Well, in that case, the cones are indeed\n",
      "color sensitive, contrary to what the original respondent had claimed.\n",
      "-- \n",
      "----------------------------------------------------------------------------\n",
      "Gordon Banks  N3JXP      | \"Skepticism is the chastity of the intellect, and\n",
      "geb@cadre.dsl.pitt.edu   |  it is shameful to surrender it too soon.\" \n",
      "----------------------------------------------------------------------------\n",
      "\n"
     ]
    }
   ],
   "source": [
    "contador = 1\n",
    "for i in twenty_train.data:\n",
    "    print(i)\n",
    "    contador = contador + 1\n",
    "    if contador >= 10:\n",
    "        break"
   ]
  },
  {
   "cell_type": "code",
   "execution_count": 6,
   "metadata": {},
   "outputs": [
    {
     "data": {
      "text/plain": [
       "(2257, 35788)"
      ]
     },
     "execution_count": 6,
     "metadata": {},
     "output_type": "execute_result"
    }
   ],
   "source": [
    "from sklearn.feature_extraction.text import CountVectorizer\n",
    "count_vect = CountVectorizer()\n",
    "X_train_counts = count_vect.fit_transform(twenty_train.data)\n",
    "X_train_counts.shape"
   ]
  },
  {
   "cell_type": "code",
   "execution_count": 7,
   "metadata": {},
   "outputs": [
    {
     "data": {
      "text/plain": [
       "4690"
      ]
     },
     "execution_count": 7,
     "metadata": {},
     "output_type": "execute_result"
    }
   ],
   "source": [
    "count_vect.vocabulary_.get(u'algorithm')"
   ]
  },
  {
   "cell_type": "code",
   "execution_count": 8,
   "metadata": {},
   "outputs": [
    {
     "data": {
      "text/plain": [
       "(2257, 35788)"
      ]
     },
     "execution_count": 8,
     "metadata": {},
     "output_type": "execute_result"
    }
   ],
   "source": [
    "from sklearn.feature_extraction.text import TfidfTransformer\n",
    "tf_transformer = TfidfTransformer(use_idf=False).fit(X_train_counts)\n",
    "X_train_tf = tf_transformer.transform(X_train_counts)\n",
    "X_train_tf.shape"
   ]
  },
  {
   "cell_type": "code",
   "execution_count": 9,
   "metadata": {},
   "outputs": [
    {
     "data": {
      "text/plain": [
       "(2257, 35788)"
      ]
     },
     "execution_count": 9,
     "metadata": {},
     "output_type": "execute_result"
    }
   ],
   "source": [
    "tfidf_transformer = TfidfTransformer()\n",
    "X_train_tfidf = tfidf_transformer.fit_transform(X_train_counts)\n",
    "X_train_tfidf.shape"
   ]
  },
  {
   "cell_type": "code",
   "execution_count": 10,
   "metadata": {},
   "outputs": [
    {
     "data": {
      "text/plain": [
       "BernoulliNB(alpha=0.01, binarize=0.0, class_prior=None, fit_prior=True)"
      ]
     },
     "execution_count": 10,
     "metadata": {},
     "output_type": "execute_result"
    }
   ],
   "source": [
    "from sklearn.naive_bayes import BernoulliNB\n",
    "clf = BernoulliNB(alpha=.01)\n",
    "clf.fit(X_train_tfidf, twenty_train.target)"
   ]
  },
  {
   "cell_type": "code",
   "execution_count": 11,
   "metadata": {},
   "outputs": [
    {
     "name": "stdout",
     "output_type": "stream",
     "text": [
      "'God is love' => comp.graphics\n",
      "'OpenGL on the GPU is fast' => comp.graphics\n"
     ]
    }
   ],
   "source": [
    "#docs_new = ['God is not GPU', 'OpenGL on the GPU is love']\n",
    "docs_new = ['God is love', 'OpenGL on the GPU is fast']\n",
    "X_new_counts = count_vect.transform(docs_new)\n",
    "X_new_tfidf = tfidf_transformer.transform(X_new_counts)\n",
    "\n",
    "predicted = clf.predict(X_new_tfidf)\n",
    "\n",
    "for doc, category in zip(docs_new, predicted):\n",
    "    print('%r => %s' % (doc, twenty_train.target_names[category]))"
   ]
  },
  {
   "cell_type": "code",
   "execution_count": 12,
   "metadata": {},
   "outputs": [
    {
     "data": {
      "text/plain": [
       "Pipeline(memory=None,\n",
       "     steps=[('vect', CountVectorizer(analyzer='word', binary=False, decode_error='strict',\n",
       "        dtype=<class 'numpy.int64'>, encoding='utf-8', input='content',\n",
       "        lowercase=True, max_df=1.0, max_features=None, min_df=1,\n",
       "        ngram_range=(1, 1), preprocessor=None, stop_words=None,\n",
       "        strip...e, use_idf=True)), ('clf', BernoulliNB(alpha=0.01, binarize=0.0, class_prior=None, fit_prior=True))])"
      ]
     },
     "execution_count": 12,
     "metadata": {},
     "output_type": "execute_result"
    }
   ],
   "source": [
    "from sklearn.pipeline import Pipeline\n",
    "text_clf = Pipeline([\n",
    "    ('vect', CountVectorizer()),\n",
    "    ('tfidf', TfidfTransformer()),\n",
    "    ('clf', BernoulliNB(alpha=.01)),\n",
    "])\n",
    "\n",
    "text_clf.fit(twenty_train.data, twenty_train.target)"
   ]
  },
  {
   "cell_type": "code",
   "execution_count": 13,
   "metadata": {},
   "outputs": [
    {
     "data": {
      "text/plain": [
       "0.8908122503328895"
      ]
     },
     "execution_count": 13,
     "metadata": {},
     "output_type": "execute_result"
    }
   ],
   "source": [
    "import numpy as np\n",
    "twenty_test = fetch_20newsgroups(subset='test', categories=categories, shuffle=True, random_state=42)\n",
    "docs_test = twenty_test.data\n",
    "predicted = text_clf.predict(docs_test)\n",
    "np.mean(predicted == twenty_test.target)"
   ]
  },
  {
   "cell_type": "code",
   "execution_count": 14,
   "metadata": {},
   "outputs": [
    {
     "name": "stdout",
     "output_type": "stream",
     "text": [
      "                        precision    recall  f1-score   support\n",
      "\n",
      "           alt.atheism       0.96      0.88      0.92       319\n",
      "         comp.graphics       0.77      0.96      0.85       389\n",
      "               sci.med       0.95      0.82      0.88       396\n",
      "soc.religion.christian       0.94      0.90      0.92       398\n",
      "\n",
      "           avg / total       0.90      0.89      0.89      1502\n",
      "\n"
     ]
    }
   ],
   "source": [
    "from sklearn import metrics\n",
    "print(metrics.classification_report(twenty_test.target, predicted, target_names=twenty_test.target_names))"
   ]
  },
  {
   "cell_type": "code",
   "execution_count": 15,
   "metadata": {},
   "outputs": [
    {
     "data": {
      "text/plain": [
       "array([[281,  13,   5,  20],\n",
       "       [  4, 373,  11,   1],\n",
       "       [  2,  65, 326,   3],\n",
       "       [  5,  34,   1, 358]], dtype=int64)"
      ]
     },
     "execution_count": 15,
     "metadata": {},
     "output_type": "execute_result"
    }
   ],
   "source": [
    "metrics.confusion_matrix(twenty_test.target, predicted)"
   ]
  },
  {
   "cell_type": "code",
   "execution_count": 18,
   "metadata": {},
   "outputs": [],
   "source": [
    "def matrix_confusao(y_test, y_pred, labels):\n",
    "    from sklearn.metrics import confusion_matrix  \n",
    "    from sklearn.metrics import accuracy_score\n",
    "    import matplotlib.pyplot as plt\n",
    "    import seaborn as sns; sns.set()\n",
    "    %matplotlib inline\n",
    "\n",
    "    cm = confusion_matrix(y_test, y_pred) \n",
    "\n",
    "    sns.heatmap(cm.T, square=True, annot=True, fmt='d', cbar=True,\n",
    "                xticklabels=labels, yticklabels=labels, cmap='YlGnBu')\n",
    "    plt.xlabel('Valores Reais')\n",
    "    plt.ylabel('Valores Previstos')"
   ]
  },
  {
   "cell_type": "code",
   "execution_count": 19,
   "metadata": {},
   "outputs": [
    {
     "data": {
      "image/png": "[encoded data removed]",
      "text/plain": [
       "<Figure size 432x288 with 2 Axes>"
      ]
     },
     "metadata": {
      "needs_background": "light"
     },
     "output_type": "display_data"
    }
   ],
   "source": [
    "matrix_confusao(twenty_test.target, predicted, twenty_test.target_names)"
   ]
  }
 ],
 "metadata": {
  "kernelspec": {
   "display_name": "Python 3",
   "language": "python",
   "name": "python3"
  },
  "language_info": {
   "codemirror_mode": {
    "name": "ipython",
    "version": 3
   },
   "file_extension": ".py",
   "mimetype": "text/x-python",
   "name": "python",
   "nbconvert_exporter": "python",
   "pygments_lexer": "ipython3",
   "version": "3.7.10"
  }
 },
 "nbformat": 4,
 "nbformat_minor": 2
}
