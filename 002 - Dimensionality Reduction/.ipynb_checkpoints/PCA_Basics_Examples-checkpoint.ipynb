{
 "cells": [
  {
   "cell_type": "markdown",
   "metadata": {},
   "source": [
    "# Redução de Dimensionalidade\n",
    "## Reduzindo DataSet"
   ]
  },
  {
   "cell_type": "markdown",
   "metadata": {},
   "source": [
    "### Carrega as bibliotecas e o Iris DataSet"
   ]
  },
  {
   "cell_type": "code",
   "execution_count": 1,
   "metadata": {},
   "outputs": [],
   "source": [
    "import pandas as pd\n",
    "import numpy as np\n",
    "from sklearn.datasets import load_iris\n",
    "from sklearn.decomposition import PCA\n",
    "import matplotlib.pyplot as plt\n",
    "import seaborn as sns\n",
    "%matplotlib inline\n",
    "\n",
    "data = load_iris()"
   ]
  },
  {
   "cell_type": "markdown",
   "metadata": {},
   "source": [
    "### Criando DataFrame"
   ]
  },
  {
   "cell_type": "code",
   "execution_count": 2,
   "metadata": {},
   "outputs": [],
   "source": [
    "df = pd.DataFrame(data.data)\n",
    "df.columns = data.feature_names\n",
    "df['target'] = data.target"
   ]
  },
  {
   "cell_type": "markdown",
   "metadata": {},
   "source": [
    "### Plota a coleção pelos dois primeiros atributos"
   ]
  },
  {
   "cell_type": "code",
   "execution_count": 3,
   "metadata": {},
   "outputs": [
    {
     "data": {
      "image/png": "[encoded data removed]",
      "text/plain": [
       "<Figure size 402.375x360 with 6 Axes>"
      ]
     },
     "metadata": {
      "needs_background": "light"
     },
     "output_type": "display_data"
    }
   ],
   "source": [
    "sns.pairplot(\n",
    "    df, vars=['sepal length (cm)', 'sepal width (cm)'],\n",
    "    hue='target', diag_kind=\"hist\"\n",
    ")\n",
    "plt.show()"
   ]
  },
  {
   "cell_type": "markdown",
   "metadata": {},
   "source": [
    "### Separa Origem e Destino para passar pelo PCA"
   ]
  },
  {
   "cell_type": "code",
   "execution_count": 4,
   "metadata": {},
   "outputs": [],
   "source": [
    "X = df.drop('target', 1)\n",
    "y = df['target']"
   ]
  },
  {
   "cell_type": "markdown",
   "metadata": {},
   "source": [
    "### Aplica o PCA na Iris DataSet e Plota o Resultado das Variâncias"
   ]
  },
  {
   "cell_type": "code",
   "execution_count": null,
   "metadata": {},
   "outputs": [],
   "source": [
    "pca = PCA(n_components=2)\n",
    "pca.fit(X)\n",
    "X = pca.transform(X)\n",
    "new_df = pd.DataFrame(X, columns=['pc1', 'pc2'])\n",
    "new_df['target'] = y\n",
    "sns.pairplot(\n",
    "    new_df, vars=['pc1', 'pc2'],\n",
    "    hue='target', diag_kind=\"hist\"\n",
    ")\n",
    "plt.show()"
   ]
  },
  {
   "cell_type": "markdown",
   "metadata": {},
   "source": [
    "## Compressão de Imagem"
   ]
  },
  {
   "cell_type": "code",
   "execution_count": null,
   "metadata": {},
   "outputs": [],
   "source": [
    "#Carregando a imagem e visualizando dimensões\n",
    "X = plt.imread('the-painted-bird.jpg')\n",
    "X.shape"
   ]
  },
  {
   "cell_type": "code",
   "execution_count": null,
   "metadata": {},
   "outputs": [],
   "source": [
    "pca = PCA()\n",
    "lower_dimension_data = pca.fit_transform(np.reshape(X, (3*698, 1240)))\n",
    "lower_dimension_data.shape"
   ]
  },
  {
   "cell_type": "code",
   "execution_count": null,
   "metadata": {},
   "outputs": [],
   "source": [
    "def pca_with_var_exp(X, var_exp=0.99):\n",
    "    pca = PCA(var_exp)\n",
    "    lower_dimension_data = pca.fit_transform(X)\n",
    "    print(lower_dimension_data.shape)\n",
    "    approximation = pca.inverse_transform(lower_dimension_data)\n",
    "    return approximation\n",
    "\n",
    "def plot_subplot(X, i):\n",
    "    plt.subplot(3,2,i)\n",
    "    plt.imshow(X, cmap=\"gray\")\n",
    "    plt.xticks([])\n",
    "    plt.yticks([])"
   ]
  },
  {
   "cell_type": "code",
   "execution_count": null,
   "metadata": {},
   "outputs": [],
   "source": [
    "X_reshaped = np.reshape(X, (3*698, 1240))\n",
    "img_1 = pca_with_var_exp(X_reshaped, var_exp=0.99)\n",
    "img_2 = pca_with_var_exp(X_reshaped, var_exp=0.95)\n",
    "img_3 = pca_with_var_exp(X_reshaped, var_exp=0.90)"
   ]
  },
  {
   "cell_type": "code",
   "execution_count": null,
   "metadata": {},
   "outputs": [],
   "source": [
    "#Visualizando aproximações\n",
    "plt.figure(figsize=(6,8))\n",
    "\n",
    "plot_subplot(X, 1)\n",
    "plt.title(\"Original\")\n",
    "\n",
    "plot_subplot(img_1, 2)\n",
    "plt.title(\"Variância de 99%\")\n",
    "\n",
    "plot_subplot(X, 3)\n",
    "plt.title(\"Original\")\n",
    "\n",
    "plot_subplot(img_2, 4)\n",
    "plt.title(\"Variância de 95%\")\n",
    "\n",
    "plot_subplot(X, 5)\n",
    "plt.title(\"Original\")\n",
    "\n",
    "plot_subplot(img_3, 6)\n",
    "plt.title(\"Variância de 90%\")\n",
    "\n",
    "plt.tight_layout()\n",
    "plt.show()"
   ]
  }
 ],
 "metadata": {
  "kernelspec": {
   "display_name": "Python 3",
   "language": "python",
   "name": "python3"
  },
  "language_info": {
   "codemirror_mode": {
    "name": "ipython",
    "version": 3
   },
   "file_extension": ".py",
   "mimetype": "text/x-python",
   "name": "python",
   "nbconvert_exporter": "python",
   "pygments_lexer": "ipython3",
   "version": "3.7.1"
  }
 },
 "nbformat": 4,
 "nbformat_minor": 2
}
